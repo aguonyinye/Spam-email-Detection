{
  "nbformat": 4,
  "nbformat_minor": 0,
  "metadata": {
    "accelerator": "GPU",
    "colab": {
      "name": "Capstone_project _code .ipynb",
      "provenance": [],
      "collapsed_sections": []
    },
    "kernelspec": {
      "display_name": "Python 3",
      "name": "python3"
    },
    "language_info": {
      "name": "python"
    },
    "widgets": {
      "application/vnd.jupyter.widget-state+json": {
        "6f2dfd19be374151b66c4cdeda2434b6": {
          "model_module": "@jupyter-widgets/controls",
          "model_name": "HBoxModel",
          "model_module_version": "1.5.0",
          "state": {
            "_view_name": "HBoxView",
            "_dom_classes": [],
            "_model_name": "HBoxModel",
            "_view_module": "@jupyter-widgets/controls",
            "_model_module_version": "1.5.0",
            "_view_count": null,
            "_view_module_version": "1.5.0",
            "box_style": "",
            "layout": "IPY_MODEL_75b38aa1ccaa48d79f2af8bdfa0472a4",
            "_model_module": "@jupyter-widgets/controls",
            "children": [
              "IPY_MODEL_8cabc7a2de5d473398c054c708d44634",
              "IPY_MODEL_b4ec39b59c2d44489aeb6951dcd607e0",
              "IPY_MODEL_d05837132b1f438a9da0621830eb2864"
            ]
          }
        },
        "75b38aa1ccaa48d79f2af8bdfa0472a4": {
          "model_module": "@jupyter-widgets/base",
          "model_name": "LayoutModel",
          "model_module_version": "1.2.0",
          "state": {
            "_view_name": "LayoutView",
            "grid_template_rows": null,
            "right": null,
            "justify_content": null,
            "_view_module": "@jupyter-widgets/base",
            "overflow": null,
            "_model_module_version": "1.2.0",
            "_view_count": null,
            "flex_flow": null,
            "width": null,
            "min_width": null,
            "border": null,
            "align_items": null,
            "bottom": null,
            "_model_module": "@jupyter-widgets/base",
            "top": null,
            "grid_column": null,
            "overflow_y": null,
            "overflow_x": null,
            "grid_auto_flow": null,
            "grid_area": null,
            "grid_template_columns": null,
            "flex": null,
            "_model_name": "LayoutModel",
            "justify_items": null,
            "grid_row": null,
            "max_height": null,
            "align_content": null,
            "visibility": null,
            "align_self": null,
            "height": null,
            "min_height": null,
            "padding": null,
            "grid_auto_rows": null,
            "grid_gap": null,
            "max_width": null,
            "order": null,
            "_view_module_version": "1.2.0",
            "grid_template_areas": null,
            "object_position": null,
            "object_fit": null,
            "grid_auto_columns": null,
            "margin": null,
            "display": null,
            "left": null
          }
        },
        "8cabc7a2de5d473398c054c708d44634": {
          "model_module": "@jupyter-widgets/controls",
          "model_name": "HTMLModel",
          "model_module_version": "1.5.0",
          "state": {
            "_view_name": "HTMLView",
            "style": "IPY_MODEL_3f7f034331c84b50941f40ac3dfd77aa",
            "_dom_classes": [],
            "description": "",
            "_model_name": "HTMLModel",
            "placeholder": "​",
            "_view_module": "@jupyter-widgets/controls",
            "_model_module_version": "1.5.0",
            "value": "Downloading: 100%",
            "_view_count": null,
            "_view_module_version": "1.5.0",
            "description_tooltip": null,
            "_model_module": "@jupyter-widgets/controls",
            "layout": "IPY_MODEL_f25e18b7671544c88d584613f3b3daf9"
          }
        },
        "b4ec39b59c2d44489aeb6951dcd607e0": {
          "model_module": "@jupyter-widgets/controls",
          "model_name": "FloatProgressModel",
          "model_module_version": "1.5.0",
          "state": {
            "_view_name": "ProgressView",
            "style": "IPY_MODEL_bc067db4ad6a49ebab70a60b50ea8bcf",
            "_dom_classes": [],
            "description": "",
            "_model_name": "FloatProgressModel",
            "bar_style": "success",
            "max": 231508,
            "_view_module": "@jupyter-widgets/controls",
            "_model_module_version": "1.5.0",
            "value": 231508,
            "_view_count": null,
            "_view_module_version": "1.5.0",
            "orientation": "horizontal",
            "min": 0,
            "description_tooltip": null,
            "_model_module": "@jupyter-widgets/controls",
            "layout": "IPY_MODEL_2a6001ced6eb4906b98164a9434844d2"
          }
        },
        "d05837132b1f438a9da0621830eb2864": {
          "model_module": "@jupyter-widgets/controls",
          "model_name": "HTMLModel",
          "model_module_version": "1.5.0",
          "state": {
            "_view_name": "HTMLView",
            "style": "IPY_MODEL_937edd38e38546dc81ccd182e0639429",
            "_dom_classes": [],
            "description": "",
            "_model_name": "HTMLModel",
            "placeholder": "​",
            "_view_module": "@jupyter-widgets/controls",
            "_model_module_version": "1.5.0",
            "value": " 226k/226k [00:00&lt;00:00, 341kB/s]",
            "_view_count": null,
            "_view_module_version": "1.5.0",
            "description_tooltip": null,
            "_model_module": "@jupyter-widgets/controls",
            "layout": "IPY_MODEL_b7145ab96dd34fe9a87c7cb2fc13722d"
          }
        },
        "3f7f034331c84b50941f40ac3dfd77aa": {
          "model_module": "@jupyter-widgets/controls",
          "model_name": "DescriptionStyleModel",
          "model_module_version": "1.5.0",
          "state": {
            "_view_name": "StyleView",
            "_model_name": "DescriptionStyleModel",
            "description_width": "",
            "_view_module": "@jupyter-widgets/base",
            "_model_module_version": "1.5.0",
            "_view_count": null,
            "_view_module_version": "1.2.0",
            "_model_module": "@jupyter-widgets/controls"
          }
        },
        "f25e18b7671544c88d584613f3b3daf9": {
          "model_module": "@jupyter-widgets/base",
          "model_name": "LayoutModel",
          "model_module_version": "1.2.0",
          "state": {
            "_view_name": "LayoutView",
            "grid_template_rows": null,
            "right": null,
            "justify_content": null,
            "_view_module": "@jupyter-widgets/base",
            "overflow": null,
            "_model_module_version": "1.2.0",
            "_view_count": null,
            "flex_flow": null,
            "width": null,
            "min_width": null,
            "border": null,
            "align_items": null,
            "bottom": null,
            "_model_module": "@jupyter-widgets/base",
            "top": null,
            "grid_column": null,
            "overflow_y": null,
            "overflow_x": null,
            "grid_auto_flow": null,
            "grid_area": null,
            "grid_template_columns": null,
            "flex": null,
            "_model_name": "LayoutModel",
            "justify_items": null,
            "grid_row": null,
            "max_height": null,
            "align_content": null,
            "visibility": null,
            "align_self": null,
            "height": null,
            "min_height": null,
            "padding": null,
            "grid_auto_rows": null,
            "grid_gap": null,
            "max_width": null,
            "order": null,
            "_view_module_version": "1.2.0",
            "grid_template_areas": null,
            "object_position": null,
            "object_fit": null,
            "grid_auto_columns": null,
            "margin": null,
            "display": null,
            "left": null
          }
        },
        "bc067db4ad6a49ebab70a60b50ea8bcf": {
          "model_module": "@jupyter-widgets/controls",
          "model_name": "ProgressStyleModel",
          "model_module_version": "1.5.0",
          "state": {
            "_view_name": "StyleView",
            "_model_name": "ProgressStyleModel",
            "description_width": "",
            "_view_module": "@jupyter-widgets/base",
            "_model_module_version": "1.5.0",
            "_view_count": null,
            "_view_module_version": "1.2.0",
            "bar_color": null,
            "_model_module": "@jupyter-widgets/controls"
          }
        },
        "2a6001ced6eb4906b98164a9434844d2": {
          "model_module": "@jupyter-widgets/base",
          "model_name": "LayoutModel",
          "model_module_version": "1.2.0",
          "state": {
            "_view_name": "LayoutView",
            "grid_template_rows": null,
            "right": null,
            "justify_content": null,
            "_view_module": "@jupyter-widgets/base",
            "overflow": null,
            "_model_module_version": "1.2.0",
            "_view_count": null,
            "flex_flow": null,
            "width": null,
            "min_width": null,
            "border": null,
            "align_items": null,
            "bottom": null,
            "_model_module": "@jupyter-widgets/base",
            "top": null,
            "grid_column": null,
            "overflow_y": null,
            "overflow_x": null,
            "grid_auto_flow": null,
            "grid_area": null,
            "grid_template_columns": null,
            "flex": null,
            "_model_name": "LayoutModel",
            "justify_items": null,
            "grid_row": null,
            "max_height": null,
            "align_content": null,
            "visibility": null,
            "align_self": null,
            "height": null,
            "min_height": null,
            "padding": null,
            "grid_auto_rows": null,
            "grid_gap": null,
            "max_width": null,
            "order": null,
            "_view_module_version": "1.2.0",
            "grid_template_areas": null,
            "object_position": null,
            "object_fit": null,
            "grid_auto_columns": null,
            "margin": null,
            "display": null,
            "left": null
          }
        },
        "937edd38e38546dc81ccd182e0639429": {
          "model_module": "@jupyter-widgets/controls",
          "model_name": "DescriptionStyleModel",
          "model_module_version": "1.5.0",
          "state": {
            "_view_name": "StyleView",
            "_model_name": "DescriptionStyleModel",
            "description_width": "",
            "_view_module": "@jupyter-widgets/base",
            "_model_module_version": "1.5.0",
            "_view_count": null,
            "_view_module_version": "1.2.0",
            "_model_module": "@jupyter-widgets/controls"
          }
        },
        "b7145ab96dd34fe9a87c7cb2fc13722d": {
          "model_module": "@jupyter-widgets/base",
          "model_name": "LayoutModel",
          "model_module_version": "1.2.0",
          "state": {
            "_view_name": "LayoutView",
            "grid_template_rows": null,
            "right": null,
            "justify_content": null,
            "_view_module": "@jupyter-widgets/base",
            "overflow": null,
            "_model_module_version": "1.2.0",
            "_view_count": null,
            "flex_flow": null,
            "width": null,
            "min_width": null,
            "border": null,
            "align_items": null,
            "bottom": null,
            "_model_module": "@jupyter-widgets/base",
            "top": null,
            "grid_column": null,
            "overflow_y": null,
            "overflow_x": null,
            "grid_auto_flow": null,
            "grid_area": null,
            "grid_template_columns": null,
            "flex": null,
            "_model_name": "LayoutModel",
            "justify_items": null,
            "grid_row": null,
            "max_height": null,
            "align_content": null,
            "visibility": null,
            "align_self": null,
            "height": null,
            "min_height": null,
            "padding": null,
            "grid_auto_rows": null,
            "grid_gap": null,
            "max_width": null,
            "order": null,
            "_view_module_version": "1.2.0",
            "grid_template_areas": null,
            "object_position": null,
            "object_fit": null,
            "grid_auto_columns": null,
            "margin": null,
            "display": null,
            "left": null
          }
        },
        "e0df6830e72f47fba690bd43296a29e8": {
          "model_module": "@jupyter-widgets/controls",
          "model_name": "HBoxModel",
          "model_module_version": "1.5.0",
          "state": {
            "_view_name": "HBoxView",
            "_dom_classes": [],
            "_model_name": "HBoxModel",
            "_view_module": "@jupyter-widgets/controls",
            "_model_module_version": "1.5.0",
            "_view_count": null,
            "_view_module_version": "1.5.0",
            "box_style": "",
            "layout": "IPY_MODEL_50f9267da6ca441898e956a7c0f6b009",
            "_model_module": "@jupyter-widgets/controls",
            "children": [
              "IPY_MODEL_fe3a61160e12431c921ab478af3430ee",
              "IPY_MODEL_f3c71a701c3e4e8194b7b89823ced827",
              "IPY_MODEL_3d7c68d5cfc24a91aac2c16f75cc6b47"
            ]
          }
        },
        "50f9267da6ca441898e956a7c0f6b009": {
          "model_module": "@jupyter-widgets/base",
          "model_name": "LayoutModel",
          "model_module_version": "1.2.0",
          "state": {
            "_view_name": "LayoutView",
            "grid_template_rows": null,
            "right": null,
            "justify_content": null,
            "_view_module": "@jupyter-widgets/base",
            "overflow": null,
            "_model_module_version": "1.2.0",
            "_view_count": null,
            "flex_flow": null,
            "width": null,
            "min_width": null,
            "border": null,
            "align_items": null,
            "bottom": null,
            "_model_module": "@jupyter-widgets/base",
            "top": null,
            "grid_column": null,
            "overflow_y": null,
            "overflow_x": null,
            "grid_auto_flow": null,
            "grid_area": null,
            "grid_template_columns": null,
            "flex": null,
            "_model_name": "LayoutModel",
            "justify_items": null,
            "grid_row": null,
            "max_height": null,
            "align_content": null,
            "visibility": null,
            "align_self": null,
            "height": null,
            "min_height": null,
            "padding": null,
            "grid_auto_rows": null,
            "grid_gap": null,
            "max_width": null,
            "order": null,
            "_view_module_version": "1.2.0",
            "grid_template_areas": null,
            "object_position": null,
            "object_fit": null,
            "grid_auto_columns": null,
            "margin": null,
            "display": null,
            "left": null
          }
        },
        "fe3a61160e12431c921ab478af3430ee": {
          "model_module": "@jupyter-widgets/controls",
          "model_name": "HTMLModel",
          "model_module_version": "1.5.0",
          "state": {
            "_view_name": "HTMLView",
            "style": "IPY_MODEL_8a1d1c73aeeb42ca8dfc8568727b8e3d",
            "_dom_classes": [],
            "description": "",
            "_model_name": "HTMLModel",
            "placeholder": "​",
            "_view_module": "@jupyter-widgets/controls",
            "_model_module_version": "1.5.0",
            "value": "Downloading: 100%",
            "_view_count": null,
            "_view_module_version": "1.5.0",
            "description_tooltip": null,
            "_model_module": "@jupyter-widgets/controls",
            "layout": "IPY_MODEL_99bfaf83e7b44fb2bb16547b15e484ba"
          }
        },
        "f3c71a701c3e4e8194b7b89823ced827": {
          "model_module": "@jupyter-widgets/controls",
          "model_name": "FloatProgressModel",
          "model_module_version": "1.5.0",
          "state": {
            "_view_name": "ProgressView",
            "style": "IPY_MODEL_5158233cdec345c1854c80e6e56c78c3",
            "_dom_classes": [],
            "description": "",
            "_model_name": "FloatProgressModel",
            "bar_style": "success",
            "max": 466062,
            "_view_module": "@jupyter-widgets/controls",
            "_model_module_version": "1.5.0",
            "value": 466062,
            "_view_count": null,
            "_view_module_version": "1.5.0",
            "orientation": "horizontal",
            "min": 0,
            "description_tooltip": null,
            "_model_module": "@jupyter-widgets/controls",
            "layout": "IPY_MODEL_010af213f7a444438694e19d24086ebf"
          }
        },
        "3d7c68d5cfc24a91aac2c16f75cc6b47": {
          "model_module": "@jupyter-widgets/controls",
          "model_name": "HTMLModel",
          "model_module_version": "1.5.0",
          "state": {
            "_view_name": "HTMLView",
            "style": "IPY_MODEL_15ec5590a15f416ca7c895ae7581c3b0",
            "_dom_classes": [],
            "description": "",
            "_model_name": "HTMLModel",
            "placeholder": "​",
            "_view_module": "@jupyter-widgets/controls",
            "_model_module_version": "1.5.0",
            "value": " 455k/455k [00:00&lt;00:00, 703kB/s]",
            "_view_count": null,
            "_view_module_version": "1.5.0",
            "description_tooltip": null,
            "_model_module": "@jupyter-widgets/controls",
            "layout": "IPY_MODEL_c0fb1ca5b1684429aacf8561611258bc"
          }
        },
        "8a1d1c73aeeb42ca8dfc8568727b8e3d": {
          "model_module": "@jupyter-widgets/controls",
          "model_name": "DescriptionStyleModel",
          "model_module_version": "1.5.0",
          "state": {
            "_view_name": "StyleView",
            "_model_name": "DescriptionStyleModel",
            "description_width": "",
            "_view_module": "@jupyter-widgets/base",
            "_model_module_version": "1.5.0",
            "_view_count": null,
            "_view_module_version": "1.2.0",
            "_model_module": "@jupyter-widgets/controls"
          }
        },
        "99bfaf83e7b44fb2bb16547b15e484ba": {
          "model_module": "@jupyter-widgets/base",
          "model_name": "LayoutModel",
          "model_module_version": "1.2.0",
          "state": {
            "_view_name": "LayoutView",
            "grid_template_rows": null,
            "right": null,
            "justify_content": null,
            "_view_module": "@jupyter-widgets/base",
            "overflow": null,
            "_model_module_version": "1.2.0",
            "_view_count": null,
            "flex_flow": null,
            "width": null,
            "min_width": null,
            "border": null,
            "align_items": null,
            "bottom": null,
            "_model_module": "@jupyter-widgets/base",
            "top": null,
            "grid_column": null,
            "overflow_y": null,
            "overflow_x": null,
            "grid_auto_flow": null,
            "grid_area": null,
            "grid_template_columns": null,
            "flex": null,
            "_model_name": "LayoutModel",
            "justify_items": null,
            "grid_row": null,
            "max_height": null,
            "align_content": null,
            "visibility": null,
            "align_self": null,
            "height": null,
            "min_height": null,
            "padding": null,
            "grid_auto_rows": null,
            "grid_gap": null,
            "max_width": null,
            "order": null,
            "_view_module_version": "1.2.0",
            "grid_template_areas": null,
            "object_position": null,
            "object_fit": null,
            "grid_auto_columns": null,
            "margin": null,
            "display": null,
            "left": null
          }
        },
        "5158233cdec345c1854c80e6e56c78c3": {
          "model_module": "@jupyter-widgets/controls",
          "model_name": "ProgressStyleModel",
          "model_module_version": "1.5.0",
          "state": {
            "_view_name": "StyleView",
            "_model_name": "ProgressStyleModel",
            "description_width": "",
            "_view_module": "@jupyter-widgets/base",
            "_model_module_version": "1.5.0",
            "_view_count": null,
            "_view_module_version": "1.2.0",
            "bar_color": null,
            "_model_module": "@jupyter-widgets/controls"
          }
        },
        "010af213f7a444438694e19d24086ebf": {
          "model_module": "@jupyter-widgets/base",
          "model_name": "LayoutModel",
          "model_module_version": "1.2.0",
          "state": {
            "_view_name": "LayoutView",
            "grid_template_rows": null,
            "right": null,
            "justify_content": null,
            "_view_module": "@jupyter-widgets/base",
            "overflow": null,
            "_model_module_version": "1.2.0",
            "_view_count": null,
            "flex_flow": null,
            "width": null,
            "min_width": null,
            "border": null,
            "align_items": null,
            "bottom": null,
            "_model_module": "@jupyter-widgets/base",
            "top": null,
            "grid_column": null,
            "overflow_y": null,
            "overflow_x": null,
            "grid_auto_flow": null,
            "grid_area": null,
            "grid_template_columns": null,
            "flex": null,
            "_model_name": "LayoutModel",
            "justify_items": null,
            "grid_row": null,
            "max_height": null,
            "align_content": null,
            "visibility": null,
            "align_self": null,
            "height": null,
            "min_height": null,
            "padding": null,
            "grid_auto_rows": null,
            "grid_gap": null,
            "max_width": null,
            "order": null,
            "_view_module_version": "1.2.0",
            "grid_template_areas": null,
            "object_position": null,
            "object_fit": null,
            "grid_auto_columns": null,
            "margin": null,
            "display": null,
            "left": null
          }
        },
        "15ec5590a15f416ca7c895ae7581c3b0": {
          "model_module": "@jupyter-widgets/controls",
          "model_name": "DescriptionStyleModel",
          "model_module_version": "1.5.0",
          "state": {
            "_view_name": "StyleView",
            "_model_name": "DescriptionStyleModel",
            "description_width": "",
            "_view_module": "@jupyter-widgets/base",
            "_model_module_version": "1.5.0",
            "_view_count": null,
            "_view_module_version": "1.2.0",
            "_model_module": "@jupyter-widgets/controls"
          }
        },
        "c0fb1ca5b1684429aacf8561611258bc": {
          "model_module": "@jupyter-widgets/base",
          "model_name": "LayoutModel",
          "model_module_version": "1.2.0",
          "state": {
            "_view_name": "LayoutView",
            "grid_template_rows": null,
            "right": null,
            "justify_content": null,
            "_view_module": "@jupyter-widgets/base",
            "overflow": null,
            "_model_module_version": "1.2.0",
            "_view_count": null,
            "flex_flow": null,
            "width": null,
            "min_width": null,
            "border": null,
            "align_items": null,
            "bottom": null,
            "_model_module": "@jupyter-widgets/base",
            "top": null,
            "grid_column": null,
            "overflow_y": null,
            "overflow_x": null,
            "grid_auto_flow": null,
            "grid_area": null,
            "grid_template_columns": null,
            "flex": null,
            "_model_name": "LayoutModel",
            "justify_items": null,
            "grid_row": null,
            "max_height": null,
            "align_content": null,
            "visibility": null,
            "align_self": null,
            "height": null,
            "min_height": null,
            "padding": null,
            "grid_auto_rows": null,
            "grid_gap": null,
            "max_width": null,
            "order": null,
            "_view_module_version": "1.2.0",
            "grid_template_areas": null,
            "object_position": null,
            "object_fit": null,
            "grid_auto_columns": null,
            "margin": null,
            "display": null,
            "left": null
          }
        },
        "f5de21c54ff24ce3b9a206f1976a3118": {
          "model_module": "@jupyter-widgets/controls",
          "model_name": "HBoxModel",
          "model_module_version": "1.5.0",
          "state": {
            "_view_name": "HBoxView",
            "_dom_classes": [],
            "_model_name": "HBoxModel",
            "_view_module": "@jupyter-widgets/controls",
            "_model_module_version": "1.5.0",
            "_view_count": null,
            "_view_module_version": "1.5.0",
            "box_style": "",
            "layout": "IPY_MODEL_b397ba179a3e4ffa837dbfc59c194748",
            "_model_module": "@jupyter-widgets/controls",
            "children": [
              "IPY_MODEL_4a5873731f314721bbc5329cdabf415b",
              "IPY_MODEL_fcee4bc9f1574f9fa42a3b7366e90284",
              "IPY_MODEL_444b0aa9b9f64df4a7102dc02a681120"
            ]
          }
        },
        "b397ba179a3e4ffa837dbfc59c194748": {
          "model_module": "@jupyter-widgets/base",
          "model_name": "LayoutModel",
          "model_module_version": "1.2.0",
          "state": {
            "_view_name": "LayoutView",
            "grid_template_rows": null,
            "right": null,
            "justify_content": null,
            "_view_module": "@jupyter-widgets/base",
            "overflow": null,
            "_model_module_version": "1.2.0",
            "_view_count": null,
            "flex_flow": null,
            "width": null,
            "min_width": null,
            "border": null,
            "align_items": null,
            "bottom": null,
            "_model_module": "@jupyter-widgets/base",
            "top": null,
            "grid_column": null,
            "overflow_y": null,
            "overflow_x": null,
            "grid_auto_flow": null,
            "grid_area": null,
            "grid_template_columns": null,
            "flex": null,
            "_model_name": "LayoutModel",
            "justify_items": null,
            "grid_row": null,
            "max_height": null,
            "align_content": null,
            "visibility": null,
            "align_self": null,
            "height": null,
            "min_height": null,
            "padding": null,
            "grid_auto_rows": null,
            "grid_gap": null,
            "max_width": null,
            "order": null,
            "_view_module_version": "1.2.0",
            "grid_template_areas": null,
            "object_position": null,
            "object_fit": null,
            "grid_auto_columns": null,
            "margin": null,
            "display": null,
            "left": null
          }
        },
        "4a5873731f314721bbc5329cdabf415b": {
          "model_module": "@jupyter-widgets/controls",
          "model_name": "HTMLModel",
          "model_module_version": "1.5.0",
          "state": {
            "_view_name": "HTMLView",
            "style": "IPY_MODEL_2c5cb112e33b466aaf9d569133cb7209",
            "_dom_classes": [],
            "description": "",
            "_model_name": "HTMLModel",
            "placeholder": "​",
            "_view_module": "@jupyter-widgets/controls",
            "_model_module_version": "1.5.0",
            "value": "Downloading: 100%",
            "_view_count": null,
            "_view_module_version": "1.5.0",
            "description_tooltip": null,
            "_model_module": "@jupyter-widgets/controls",
            "layout": "IPY_MODEL_72deb09fa82e4df886980de2125bdb83"
          }
        },
        "fcee4bc9f1574f9fa42a3b7366e90284": {
          "model_module": "@jupyter-widgets/controls",
          "model_name": "FloatProgressModel",
          "model_module_version": "1.5.0",
          "state": {
            "_view_name": "ProgressView",
            "style": "IPY_MODEL_50a37d5169f7499091a3a4fcc16ad822",
            "_dom_classes": [],
            "description": "",
            "_model_name": "FloatProgressModel",
            "bar_style": "success",
            "max": 28,
            "_view_module": "@jupyter-widgets/controls",
            "_model_module_version": "1.5.0",
            "value": 28,
            "_view_count": null,
            "_view_module_version": "1.5.0",
            "orientation": "horizontal",
            "min": 0,
            "description_tooltip": null,
            "_model_module": "@jupyter-widgets/controls",
            "layout": "IPY_MODEL_8c1f979ba8dd4485ae3be6730550e815"
          }
        },
        "444b0aa9b9f64df4a7102dc02a681120": {
          "model_module": "@jupyter-widgets/controls",
          "model_name": "HTMLModel",
          "model_module_version": "1.5.0",
          "state": {
            "_view_name": "HTMLView",
            "style": "IPY_MODEL_1ca45dc5f6fb448f84213f870c295e1d",
            "_dom_classes": [],
            "description": "",
            "_model_name": "HTMLModel",
            "placeholder": "​",
            "_view_module": "@jupyter-widgets/controls",
            "_model_module_version": "1.5.0",
            "value": " 28.0/28.0 [00:00&lt;00:00, 468B/s]",
            "_view_count": null,
            "_view_module_version": "1.5.0",
            "description_tooltip": null,
            "_model_module": "@jupyter-widgets/controls",
            "layout": "IPY_MODEL_6bf1726c269349c0bddc01280ca07966"
          }
        },
        "2c5cb112e33b466aaf9d569133cb7209": {
          "model_module": "@jupyter-widgets/controls",
          "model_name": "DescriptionStyleModel",
          "model_module_version": "1.5.0",
          "state": {
            "_view_name": "StyleView",
            "_model_name": "DescriptionStyleModel",
            "description_width": "",
            "_view_module": "@jupyter-widgets/base",
            "_model_module_version": "1.5.0",
            "_view_count": null,
            "_view_module_version": "1.2.0",
            "_model_module": "@jupyter-widgets/controls"
          }
        },
        "72deb09fa82e4df886980de2125bdb83": {
          "model_module": "@jupyter-widgets/base",
          "model_name": "LayoutModel",
          "model_module_version": "1.2.0",
          "state": {
            "_view_name": "LayoutView",
            "grid_template_rows": null,
            "right": null,
            "justify_content": null,
            "_view_module": "@jupyter-widgets/base",
            "overflow": null,
            "_model_module_version": "1.2.0",
            "_view_count": null,
            "flex_flow": null,
            "width": null,
            "min_width": null,
            "border": null,
            "align_items": null,
            "bottom": null,
            "_model_module": "@jupyter-widgets/base",
            "top": null,
            "grid_column": null,
            "overflow_y": null,
            "overflow_x": null,
            "grid_auto_flow": null,
            "grid_area": null,
            "grid_template_columns": null,
            "flex": null,
            "_model_name": "LayoutModel",
            "justify_items": null,
            "grid_row": null,
            "max_height": null,
            "align_content": null,
            "visibility": null,
            "align_self": null,
            "height": null,
            "min_height": null,
            "padding": null,
            "grid_auto_rows": null,
            "grid_gap": null,
            "max_width": null,
            "order": null,
            "_view_module_version": "1.2.0",
            "grid_template_areas": null,
            "object_position": null,
            "object_fit": null,
            "grid_auto_columns": null,
            "margin": null,
            "display": null,
            "left": null
          }
        },
        "50a37d5169f7499091a3a4fcc16ad822": {
          "model_module": "@jupyter-widgets/controls",
          "model_name": "ProgressStyleModel",
          "model_module_version": "1.5.0",
          "state": {
            "_view_name": "StyleView",
            "_model_name": "ProgressStyleModel",
            "description_width": "",
            "_view_module": "@jupyter-widgets/base",
            "_model_module_version": "1.5.0",
            "_view_count": null,
            "_view_module_version": "1.2.0",
            "bar_color": null,
            "_model_module": "@jupyter-widgets/controls"
          }
        },
        "8c1f979ba8dd4485ae3be6730550e815": {
          "model_module": "@jupyter-widgets/base",
          "model_name": "LayoutModel",
          "model_module_version": "1.2.0",
          "state": {
            "_view_name": "LayoutView",
            "grid_template_rows": null,
            "right": null,
            "justify_content": null,
            "_view_module": "@jupyter-widgets/base",
            "overflow": null,
            "_model_module_version": "1.2.0",
            "_view_count": null,
            "flex_flow": null,
            "width": null,
            "min_width": null,
            "border": null,
            "align_items": null,
            "bottom": null,
            "_model_module": "@jupyter-widgets/base",
            "top": null,
            "grid_column": null,
            "overflow_y": null,
            "overflow_x": null,
            "grid_auto_flow": null,
            "grid_area": null,
            "grid_template_columns": null,
            "flex": null,
            "_model_name": "LayoutModel",
            "justify_items": null,
            "grid_row": null,
            "max_height": null,
            "align_content": null,
            "visibility": null,
            "align_self": null,
            "height": null,
            "min_height": null,
            "padding": null,
            "grid_auto_rows": null,
            "grid_gap": null,
            "max_width": null,
            "order": null,
            "_view_module_version": "1.2.0",
            "grid_template_areas": null,
            "object_position": null,
            "object_fit": null,
            "grid_auto_columns": null,
            "margin": null,
            "display": null,
            "left": null
          }
        },
        "1ca45dc5f6fb448f84213f870c295e1d": {
          "model_module": "@jupyter-widgets/controls",
          "model_name": "DescriptionStyleModel",
          "model_module_version": "1.5.0",
          "state": {
            "_view_name": "StyleView",
            "_model_name": "DescriptionStyleModel",
            "description_width": "",
            "_view_module": "@jupyter-widgets/base",
            "_model_module_version": "1.5.0",
            "_view_count": null,
            "_view_module_version": "1.2.0",
            "_model_module": "@jupyter-widgets/controls"
          }
        },
        "6bf1726c269349c0bddc01280ca07966": {
          "model_module": "@jupyter-widgets/base",
          "model_name": "LayoutModel",
          "model_module_version": "1.2.0",
          "state": {
            "_view_name": "LayoutView",
            "grid_template_rows": null,
            "right": null,
            "justify_content": null,
            "_view_module": "@jupyter-widgets/base",
            "overflow": null,
            "_model_module_version": "1.2.0",
            "_view_count": null,
            "flex_flow": null,
            "width": null,
            "min_width": null,
            "border": null,
            "align_items": null,
            "bottom": null,
            "_model_module": "@jupyter-widgets/base",
            "top": null,
            "grid_column": null,
            "overflow_y": null,
            "overflow_x": null,
            "grid_auto_flow": null,
            "grid_area": null,
            "grid_template_columns": null,
            "flex": null,
            "_model_name": "LayoutModel",
            "justify_items": null,
            "grid_row": null,
            "max_height": null,
            "align_content": null,
            "visibility": null,
            "align_self": null,
            "height": null,
            "min_height": null,
            "padding": null,
            "grid_auto_rows": null,
            "grid_gap": null,
            "max_width": null,
            "order": null,
            "_view_module_version": "1.2.0",
            "grid_template_areas": null,
            "object_position": null,
            "object_fit": null,
            "grid_auto_columns": null,
            "margin": null,
            "display": null,
            "left": null
          }
        },
        "a8adcd3f92334573b3766d3eb91a5ccc": {
          "model_module": "@jupyter-widgets/controls",
          "model_name": "HBoxModel",
          "model_module_version": "1.5.0",
          "state": {
            "_view_name": "HBoxView",
            "_dom_classes": [],
            "_model_name": "HBoxModel",
            "_view_module": "@jupyter-widgets/controls",
            "_model_module_version": "1.5.0",
            "_view_count": null,
            "_view_module_version": "1.5.0",
            "box_style": "",
            "layout": "IPY_MODEL_6983239e285749aa8a6a1fe071a39ba0",
            "_model_module": "@jupyter-widgets/controls",
            "children": [
              "IPY_MODEL_4d4fb6d0973647f3a3341091af337bf9",
              "IPY_MODEL_4f4580db18bd49e69cbbfa39c1b641ed",
              "IPY_MODEL_d8d09010a1c04445960a904e25f81243"
            ]
          }
        },
        "6983239e285749aa8a6a1fe071a39ba0": {
          "model_module": "@jupyter-widgets/base",
          "model_name": "LayoutModel",
          "model_module_version": "1.2.0",
          "state": {
            "_view_name": "LayoutView",
            "grid_template_rows": null,
            "right": null,
            "justify_content": null,
            "_view_module": "@jupyter-widgets/base",
            "overflow": null,
            "_model_module_version": "1.2.0",
            "_view_count": null,
            "flex_flow": null,
            "width": null,
            "min_width": null,
            "border": null,
            "align_items": null,
            "bottom": null,
            "_model_module": "@jupyter-widgets/base",
            "top": null,
            "grid_column": null,
            "overflow_y": null,
            "overflow_x": null,
            "grid_auto_flow": null,
            "grid_area": null,
            "grid_template_columns": null,
            "flex": null,
            "_model_name": "LayoutModel",
            "justify_items": null,
            "grid_row": null,
            "max_height": null,
            "align_content": null,
            "visibility": null,
            "align_self": null,
            "height": null,
            "min_height": null,
            "padding": null,
            "grid_auto_rows": null,
            "grid_gap": null,
            "max_width": null,
            "order": null,
            "_view_module_version": "1.2.0",
            "grid_template_areas": null,
            "object_position": null,
            "object_fit": null,
            "grid_auto_columns": null,
            "margin": null,
            "display": null,
            "left": null
          }
        },
        "4d4fb6d0973647f3a3341091af337bf9": {
          "model_module": "@jupyter-widgets/controls",
          "model_name": "HTMLModel",
          "model_module_version": "1.5.0",
          "state": {
            "_view_name": "HTMLView",
            "style": "IPY_MODEL_71695f1fca754daabe8e637e3ee139b6",
            "_dom_classes": [],
            "description": "",
            "_model_name": "HTMLModel",
            "placeholder": "​",
            "_view_module": "@jupyter-widgets/controls",
            "_model_module_version": "1.5.0",
            "value": "Downloading: 100%",
            "_view_count": null,
            "_view_module_version": "1.5.0",
            "description_tooltip": null,
            "_model_module": "@jupyter-widgets/controls",
            "layout": "IPY_MODEL_8b982be7339f459c96d69d5477611e96"
          }
        },
        "4f4580db18bd49e69cbbfa39c1b641ed": {
          "model_module": "@jupyter-widgets/controls",
          "model_name": "FloatProgressModel",
          "model_module_version": "1.5.0",
          "state": {
            "_view_name": "ProgressView",
            "style": "IPY_MODEL_0509e85d49f4421dace566f56075c9fb",
            "_dom_classes": [],
            "description": "",
            "_model_name": "FloatProgressModel",
            "bar_style": "success",
            "max": 483,
            "_view_module": "@jupyter-widgets/controls",
            "_model_module_version": "1.5.0",
            "value": 483,
            "_view_count": null,
            "_view_module_version": "1.5.0",
            "orientation": "horizontal",
            "min": 0,
            "description_tooltip": null,
            "_model_module": "@jupyter-widgets/controls",
            "layout": "IPY_MODEL_bb8183844b1e46edaca20a5a6c099ce9"
          }
        },
        "d8d09010a1c04445960a904e25f81243": {
          "model_module": "@jupyter-widgets/controls",
          "model_name": "HTMLModel",
          "model_module_version": "1.5.0",
          "state": {
            "_view_name": "HTMLView",
            "style": "IPY_MODEL_8fd6b61d703d4d789b936015f9c831cd",
            "_dom_classes": [],
            "description": "",
            "_model_name": "HTMLModel",
            "placeholder": "​",
            "_view_module": "@jupyter-widgets/controls",
            "_model_module_version": "1.5.0",
            "value": " 483/483 [00:00&lt;00:00, 12.0kB/s]",
            "_view_count": null,
            "_view_module_version": "1.5.0",
            "description_tooltip": null,
            "_model_module": "@jupyter-widgets/controls",
            "layout": "IPY_MODEL_9a20a9f40b37491480b1e9df8d7402d9"
          }
        },
        "71695f1fca754daabe8e637e3ee139b6": {
          "model_module": "@jupyter-widgets/controls",
          "model_name": "DescriptionStyleModel",
          "model_module_version": "1.5.0",
          "state": {
            "_view_name": "StyleView",
            "_model_name": "DescriptionStyleModel",
            "description_width": "",
            "_view_module": "@jupyter-widgets/base",
            "_model_module_version": "1.5.0",
            "_view_count": null,
            "_view_module_version": "1.2.0",
            "_model_module": "@jupyter-widgets/controls"
          }
        },
        "8b982be7339f459c96d69d5477611e96": {
          "model_module": "@jupyter-widgets/base",
          "model_name": "LayoutModel",
          "model_module_version": "1.2.0",
          "state": {
            "_view_name": "LayoutView",
            "grid_template_rows": null,
            "right": null,
            "justify_content": null,
            "_view_module": "@jupyter-widgets/base",
            "overflow": null,
            "_model_module_version": "1.2.0",
            "_view_count": null,
            "flex_flow": null,
            "width": null,
            "min_width": null,
            "border": null,
            "align_items": null,
            "bottom": null,
            "_model_module": "@jupyter-widgets/base",
            "top": null,
            "grid_column": null,
            "overflow_y": null,
            "overflow_x": null,
            "grid_auto_flow": null,
            "grid_area": null,
            "grid_template_columns": null,
            "flex": null,
            "_model_name": "LayoutModel",
            "justify_items": null,
            "grid_row": null,
            "max_height": null,
            "align_content": null,
            "visibility": null,
            "align_self": null,
            "height": null,
            "min_height": null,
            "padding": null,
            "grid_auto_rows": null,
            "grid_gap": null,
            "max_width": null,
            "order": null,
            "_view_module_version": "1.2.0",
            "grid_template_areas": null,
            "object_position": null,
            "object_fit": null,
            "grid_auto_columns": null,
            "margin": null,
            "display": null,
            "left": null
          }
        },
        "0509e85d49f4421dace566f56075c9fb": {
          "model_module": "@jupyter-widgets/controls",
          "model_name": "ProgressStyleModel",
          "model_module_version": "1.5.0",
          "state": {
            "_view_name": "StyleView",
            "_model_name": "ProgressStyleModel",
            "description_width": "",
            "_view_module": "@jupyter-widgets/base",
            "_model_module_version": "1.5.0",
            "_view_count": null,
            "_view_module_version": "1.2.0",
            "bar_color": null,
            "_model_module": "@jupyter-widgets/controls"
          }
        },
        "bb8183844b1e46edaca20a5a6c099ce9": {
          "model_module": "@jupyter-widgets/base",
          "model_name": "LayoutModel",
          "model_module_version": "1.2.0",
          "state": {
            "_view_name": "LayoutView",
            "grid_template_rows": null,
            "right": null,
            "justify_content": null,
            "_view_module": "@jupyter-widgets/base",
            "overflow": null,
            "_model_module_version": "1.2.0",
            "_view_count": null,
            "flex_flow": null,
            "width": null,
            "min_width": null,
            "border": null,
            "align_items": null,
            "bottom": null,
            "_model_module": "@jupyter-widgets/base",
            "top": null,
            "grid_column": null,
            "overflow_y": null,
            "overflow_x": null,
            "grid_auto_flow": null,
            "grid_area": null,
            "grid_template_columns": null,
            "flex": null,
            "_model_name": "LayoutModel",
            "justify_items": null,
            "grid_row": null,
            "max_height": null,
            "align_content": null,
            "visibility": null,
            "align_self": null,
            "height": null,
            "min_height": null,
            "padding": null,
            "grid_auto_rows": null,
            "grid_gap": null,
            "max_width": null,
            "order": null,
            "_view_module_version": "1.2.0",
            "grid_template_areas": null,
            "object_position": null,
            "object_fit": null,
            "grid_auto_columns": null,
            "margin": null,
            "display": null,
            "left": null
          }
        },
        "8fd6b61d703d4d789b936015f9c831cd": {
          "model_module": "@jupyter-widgets/controls",
          "model_name": "DescriptionStyleModel",
          "model_module_version": "1.5.0",
          "state": {
            "_view_name": "StyleView",
            "_model_name": "DescriptionStyleModel",
            "description_width": "",
            "_view_module": "@jupyter-widgets/base",
            "_model_module_version": "1.5.0",
            "_view_count": null,
            "_view_module_version": "1.2.0",
            "_model_module": "@jupyter-widgets/controls"
          }
        },
        "9a20a9f40b37491480b1e9df8d7402d9": {
          "model_module": "@jupyter-widgets/base",
          "model_name": "LayoutModel",
          "model_module_version": "1.2.0",
          "state": {
            "_view_name": "LayoutView",
            "grid_template_rows": null,
            "right": null,
            "justify_content": null,
            "_view_module": "@jupyter-widgets/base",
            "overflow": null,
            "_model_module_version": "1.2.0",
            "_view_count": null,
            "flex_flow": null,
            "width": null,
            "min_width": null,
            "border": null,
            "align_items": null,
            "bottom": null,
            "_model_module": "@jupyter-widgets/base",
            "top": null,
            "grid_column": null,
            "overflow_y": null,
            "overflow_x": null,
            "grid_auto_flow": null,
            "grid_area": null,
            "grid_template_columns": null,
            "flex": null,
            "_model_name": "LayoutModel",
            "justify_items": null,
            "grid_row": null,
            "max_height": null,
            "align_content": null,
            "visibility": null,
            "align_self": null,
            "height": null,
            "min_height": null,
            "padding": null,
            "grid_auto_rows": null,
            "grid_gap": null,
            "max_width": null,
            "order": null,
            "_view_module_version": "1.2.0",
            "grid_template_areas": null,
            "object_position": null,
            "object_fit": null,
            "grid_auto_columns": null,
            "margin": null,
            "display": null,
            "left": null
          }
        },
        "baec2f115b1d4bb09f4b5ba006da18e5": {
          "model_module": "@jupyter-widgets/controls",
          "model_name": "HBoxModel",
          "model_module_version": "1.5.0",
          "state": {
            "_view_name": "HBoxView",
            "_dom_classes": [],
            "_model_name": "HBoxModel",
            "_view_module": "@jupyter-widgets/controls",
            "_model_module_version": "1.5.0",
            "_view_count": null,
            "_view_module_version": "1.5.0",
            "box_style": "",
            "layout": "IPY_MODEL_afdb97668fac4f499fec22ee64c00162",
            "_model_module": "@jupyter-widgets/controls",
            "children": [
              "IPY_MODEL_61ee3b84d93f48949832663d6854b9e5",
              "IPY_MODEL_e25a603977124e379a6e88c5d56cfeaa",
              "IPY_MODEL_403d3dd6f78c4d4ea9eec663eacbf94e"
            ]
          }
        },
        "afdb97668fac4f499fec22ee64c00162": {
          "model_module": "@jupyter-widgets/base",
          "model_name": "LayoutModel",
          "model_module_version": "1.2.0",
          "state": {
            "_view_name": "LayoutView",
            "grid_template_rows": null,
            "right": null,
            "justify_content": null,
            "_view_module": "@jupyter-widgets/base",
            "overflow": null,
            "_model_module_version": "1.2.0",
            "_view_count": null,
            "flex_flow": null,
            "width": null,
            "min_width": null,
            "border": null,
            "align_items": null,
            "bottom": null,
            "_model_module": "@jupyter-widgets/base",
            "top": null,
            "grid_column": null,
            "overflow_y": null,
            "overflow_x": null,
            "grid_auto_flow": null,
            "grid_area": null,
            "grid_template_columns": null,
            "flex": null,
            "_model_name": "LayoutModel",
            "justify_items": null,
            "grid_row": null,
            "max_height": null,
            "align_content": null,
            "visibility": null,
            "align_self": null,
            "height": null,
            "min_height": null,
            "padding": null,
            "grid_auto_rows": null,
            "grid_gap": null,
            "max_width": null,
            "order": null,
            "_view_module_version": "1.2.0",
            "grid_template_areas": null,
            "object_position": null,
            "object_fit": null,
            "grid_auto_columns": null,
            "margin": null,
            "display": null,
            "left": null
          }
        },
        "61ee3b84d93f48949832663d6854b9e5": {
          "model_module": "@jupyter-widgets/controls",
          "model_name": "HTMLModel",
          "model_module_version": "1.5.0",
          "state": {
            "_view_name": "HTMLView",
            "style": "IPY_MODEL_60fe881fac5b494c989d355ffb02b43f",
            "_dom_classes": [],
            "description": "",
            "_model_name": "HTMLModel",
            "placeholder": "​",
            "_view_module": "@jupyter-widgets/controls",
            "_model_module_version": "1.5.0",
            "value": "Downloading: 100%",
            "_view_count": null,
            "_view_module_version": "1.5.0",
            "description_tooltip": null,
            "_model_module": "@jupyter-widgets/controls",
            "layout": "IPY_MODEL_9a9a1ed880164ff2a5661ef8c1fc908c"
          }
        },
        "e25a603977124e379a6e88c5d56cfeaa": {
          "model_module": "@jupyter-widgets/controls",
          "model_name": "FloatProgressModel",
          "model_module_version": "1.5.0",
          "state": {
            "_view_name": "ProgressView",
            "style": "IPY_MODEL_7e7aab5e59fa432e96930af9862a4654",
            "_dom_classes": [],
            "description": "",
            "_model_name": "FloatProgressModel",
            "bar_style": "success",
            "max": 267967963,
            "_view_module": "@jupyter-widgets/controls",
            "_model_module_version": "1.5.0",
            "value": 267967963,
            "_view_count": null,
            "_view_module_version": "1.5.0",
            "orientation": "horizontal",
            "min": 0,
            "description_tooltip": null,
            "_model_module": "@jupyter-widgets/controls",
            "layout": "IPY_MODEL_8d41d3b895f241c5966960a64b39aa31"
          }
        },
        "403d3dd6f78c4d4ea9eec663eacbf94e": {
          "model_module": "@jupyter-widgets/controls",
          "model_name": "HTMLModel",
          "model_module_version": "1.5.0",
          "state": {
            "_view_name": "HTMLView",
            "style": "IPY_MODEL_0e3f6be080824ba783f8e41e0ae2c390",
            "_dom_classes": [],
            "description": "",
            "_model_name": "HTMLModel",
            "placeholder": "​",
            "_view_module": "@jupyter-widgets/controls",
            "_model_module_version": "1.5.0",
            "value": " 256M/256M [00:08&lt;00:00, 31.5MB/s]",
            "_view_count": null,
            "_view_module_version": "1.5.0",
            "description_tooltip": null,
            "_model_module": "@jupyter-widgets/controls",
            "layout": "IPY_MODEL_e3f95432753048f0875f8edd9278d8fd"
          }
        },
        "60fe881fac5b494c989d355ffb02b43f": {
          "model_module": "@jupyter-widgets/controls",
          "model_name": "DescriptionStyleModel",
          "model_module_version": "1.5.0",
          "state": {
            "_view_name": "StyleView",
            "_model_name": "DescriptionStyleModel",
            "description_width": "",
            "_view_module": "@jupyter-widgets/base",
            "_model_module_version": "1.5.0",
            "_view_count": null,
            "_view_module_version": "1.2.0",
            "_model_module": "@jupyter-widgets/controls"
          }
        },
        "9a9a1ed880164ff2a5661ef8c1fc908c": {
          "model_module": "@jupyter-widgets/base",
          "model_name": "LayoutModel",
          "model_module_version": "1.2.0",
          "state": {
            "_view_name": "LayoutView",
            "grid_template_rows": null,
            "right": null,
            "justify_content": null,
            "_view_module": "@jupyter-widgets/base",
            "overflow": null,
            "_model_module_version": "1.2.0",
            "_view_count": null,
            "flex_flow": null,
            "width": null,
            "min_width": null,
            "border": null,
            "align_items": null,
            "bottom": null,
            "_model_module": "@jupyter-widgets/base",
            "top": null,
            "grid_column": null,
            "overflow_y": null,
            "overflow_x": null,
            "grid_auto_flow": null,
            "grid_area": null,
            "grid_template_columns": null,
            "flex": null,
            "_model_name": "LayoutModel",
            "justify_items": null,
            "grid_row": null,
            "max_height": null,
            "align_content": null,
            "visibility": null,
            "align_self": null,
            "height": null,
            "min_height": null,
            "padding": null,
            "grid_auto_rows": null,
            "grid_gap": null,
            "max_width": null,
            "order": null,
            "_view_module_version": "1.2.0",
            "grid_template_areas": null,
            "object_position": null,
            "object_fit": null,
            "grid_auto_columns": null,
            "margin": null,
            "display": null,
            "left": null
          }
        },
        "7e7aab5e59fa432e96930af9862a4654": {
          "model_module": "@jupyter-widgets/controls",
          "model_name": "ProgressStyleModel",
          "model_module_version": "1.5.0",
          "state": {
            "_view_name": "StyleView",
            "_model_name": "ProgressStyleModel",
            "description_width": "",
            "_view_module": "@jupyter-widgets/base",
            "_model_module_version": "1.5.0",
            "_view_count": null,
            "_view_module_version": "1.2.0",
            "bar_color": null,
            "_model_module": "@jupyter-widgets/controls"
          }
        },
        "8d41d3b895f241c5966960a64b39aa31": {
          "model_module": "@jupyter-widgets/base",
          "model_name": "LayoutModel",
          "model_module_version": "1.2.0",
          "state": {
            "_view_name": "LayoutView",
            "grid_template_rows": null,
            "right": null,
            "justify_content": null,
            "_view_module": "@jupyter-widgets/base",
            "overflow": null,
            "_model_module_version": "1.2.0",
            "_view_count": null,
            "flex_flow": null,
            "width": null,
            "min_width": null,
            "border": null,
            "align_items": null,
            "bottom": null,
            "_model_module": "@jupyter-widgets/base",
            "top": null,
            "grid_column": null,
            "overflow_y": null,
            "overflow_x": null,
            "grid_auto_flow": null,
            "grid_area": null,
            "grid_template_columns": null,
            "flex": null,
            "_model_name": "LayoutModel",
            "justify_items": null,
            "grid_row": null,
            "max_height": null,
            "align_content": null,
            "visibility": null,
            "align_self": null,
            "height": null,
            "min_height": null,
            "padding": null,
            "grid_auto_rows": null,
            "grid_gap": null,
            "max_width": null,
            "order": null,
            "_view_module_version": "1.2.0",
            "grid_template_areas": null,
            "object_position": null,
            "object_fit": null,
            "grid_auto_columns": null,
            "margin": null,
            "display": null,
            "left": null
          }
        },
        "0e3f6be080824ba783f8e41e0ae2c390": {
          "model_module": "@jupyter-widgets/controls",
          "model_name": "DescriptionStyleModel",
          "model_module_version": "1.5.0",
          "state": {
            "_view_name": "StyleView",
            "_model_name": "DescriptionStyleModel",
            "description_width": "",
            "_view_module": "@jupyter-widgets/base",
            "_model_module_version": "1.5.0",
            "_view_count": null,
            "_view_module_version": "1.2.0",
            "_model_module": "@jupyter-widgets/controls"
          }
        },
        "e3f95432753048f0875f8edd9278d8fd": {
          "model_module": "@jupyter-widgets/base",
          "model_name": "LayoutModel",
          "model_module_version": "1.2.0",
          "state": {
            "_view_name": "LayoutView",
            "grid_template_rows": null,
            "right": null,
            "justify_content": null,
            "_view_module": "@jupyter-widgets/base",
            "overflow": null,
            "_model_module_version": "1.2.0",
            "_view_count": null,
            "flex_flow": null,
            "width": null,
            "min_width": null,
            "border": null,
            "align_items": null,
            "bottom": null,
            "_model_module": "@jupyter-widgets/base",
            "top": null,
            "grid_column": null,
            "overflow_y": null,
            "overflow_x": null,
            "grid_auto_flow": null,
            "grid_area": null,
            "grid_template_columns": null,
            "flex": null,
            "_model_name": "LayoutModel",
            "justify_items": null,
            "grid_row": null,
            "max_height": null,
            "align_content": null,
            "visibility": null,
            "align_self": null,
            "height": null,
            "min_height": null,
            "padding": null,
            "grid_auto_rows": null,
            "grid_gap": null,
            "max_width": null,
            "order": null,
            "_view_module_version": "1.2.0",
            "grid_template_areas": null,
            "object_position": null,
            "object_fit": null,
            "grid_auto_columns": null,
            "margin": null,
            "display": null,
            "left": null
          }
        }
      }
    }
  },
  "cells": [
    {
      "cell_type": "markdown",
      "metadata": {
        "id": "a7pdoG1diFDo"
      },
      "source": [
        "**Fairness in Spam E-mail Detection**\n",
        "\n",
        "---\n",
        "\n"
      ]
    },
    {
      "cell_type": "markdown",
      "metadata": {
        "id": "Wno-0BPolGCL"
      },
      "source": [
        "**Objective** : <br>\n",
        "Using Neural networks to process and transform CSDMC2010_Spam Dataset to create a prediction model. This model must predict if an email is spam or not while considering fairness.\n",
        "\n",
        "\n",
        "**Preprocessing of the model:**<br>\n",
        "The first step is to import the dataset into a dataframe.Since the dataset is in email format, we use the eml_parser.<br>\n",
        "\n",
        "Once we import the data into a dataframe, we use the GeoLocation API to get the country, city and zipcode from the originating IP address.<br>\n",
        "\n",
        "Then we split the dataset using the sklearn.model_selection \n",
        "\n",
        "The next step is to tokenize the text into a readable format by the model. It is important to load the same tokenizer a model was trained with to ensure appropriately tokenized words. Load the DistilBERT tokenizer with the AutoTokenizer because we will eventually train a classifier using a pretrained DistilBERT model.\n",
        "\n",
        "\n",
        "After training the model, we used it to predict on the test set to get the accuracy and confusion matrix.\n",
        "\n",
        "**Fairness metrics**<br>\n",
        "After getting the predicted label, we added it to our original dataset and then found the confusion matrix for each country in our dataset. We used the equality of odds which is a fairness metric that checks if, for any particular label and attribute, a classifier predicts that label equally well for all values of that attribute."
      ]
    },
    {
      "cell_type": "markdown",
      "metadata": {
        "id": "4Ky-M93Dpgdt"
      },
      "source": [
        "**Import Libraries**"
      ]
    },
    {
      "cell_type": "code",
      "metadata": {
        "id": "_EnxZ5LFpo8G"
      },
      "source": [
        "import json\n",
        "import pandas as pd\n",
        "import torch\n",
        "import torch.nn as nn\n",
        "import re\n",
        "import spacy\n",
        "from collections import Counter,defaultdict\n",
        "from torchtext.data.utils import get_tokenizer\n",
        "\n",
        "import numpy as np\n",
        "import torch.optim as optim\n",
        "from torch.utils.data import Dataset, DataLoader\n",
        "from torch.nn.utils.rnn import pad_sequence\n",
        "import matplotlib.pyplot as plt\n",
        "plt.rcParams.update({'figure.max_open_warning': 0})\n",
        "from sklearn.metrics import confusion_matrix\n",
        "from sklearn.metrics import accuracy_score\n",
        "from sklearn.metrics import recall_score\n",
        "from sklearn.metrics import precision_score"
      ],
      "execution_count": null,
      "outputs": []
    },
    {
      "cell_type": "markdown",
      "metadata": {
        "id": "rrsv7xyHum4m"
      },
      "source": [
        "**Load Dataset**"
      ]
    },
    {
      "cell_type": "code",
      "metadata": {
        "id": "nn_JzgEmp8td"
      },
      "source": [
        "#Read label for train data\n",
        "def read_labels_file():\n",
        "    spam_filename_index = {}\n",
        "    with open('/content/sp/SPAMTrain.label') as f:\n",
        "        for label in f.readlines():\n",
        "            (spam_indicator, filename) = label.split(\" \")  \n",
        "            spam_filename_index[filename.strip()] = spam_indicator\n",
        "        return spam_filename_index\n",
        "\n",
        "spam_filename_dict = read_labels_file()"
      ],
      "execution_count": null,
      "outputs": []
    },
    {
      "cell_type": "code",
      "metadata": {
        "id": "zb1IeDMzqoet"
      },
      "source": [
        "#Import datset and create dataframe from the dataset\n",
        "import datetime\n",
        "import json\n",
        "import eml_parser\n",
        "from email import message_from_file\n",
        "import pandas as pd\n",
        "\n",
        "\n",
        "import os\n",
        "\n",
        "df = pd.DataFrame(columns=['email_from','email_to','email_sub','email_date','email_received_ip','email_content'])\n",
        "\n",
        "for filename in os.listdir(\"/content/sp/TRAINING\"):\n",
        "  with open(os.path.join(\"/content/sp/TRAINING\", filename), 'rb') as f:\n",
        "    try:\n",
        "      raw_email = f.read()\n",
        "      ep = eml_parser.EmlParser()\n",
        "      parsed_eml = ep.decode_email_bytes(raw_email)\n",
        "      email_sub=parsed_eml['header']['subject'];\n",
        "      email_from=parsed_eml['header']['from'];\n",
        "      email_to=parsed_eml['header']['to']\n",
        "      email_date=parsed_eml['header']['date'];\n",
        "      email_received_ip=parsed_eml['header']['received_ip'];\n",
        "      email_content=ep.msg.get_body().get_content()\n",
        "      df=df.append({\n",
        "          'email_from':email_from,\n",
        "          'email_to':email_to,\n",
        "          'email_sub':email_sub,\n",
        "          'email_date':email_date,\n",
        "          'email_received_ip':email_received_ip,\n",
        "          'email_content': email_content,\n",
        "          'filename':filename,\n",
        "          'labels':spam_filename_dict[filename] },ignore_index=True)\n",
        "    except:\n",
        "      df.to_pickle(\"./dr.pkl\")\n",
        "      pass"
      ],
      "execution_count": null,
      "outputs": []
    },
    {
      "cell_type": "code",
      "metadata": {
        "id": "-a6R4LR7rfe2"
      },
      "source": [
        "#select the first IP address from email_received_ip\n",
        "df['email_received_ip']=df['email_received_ip'].str[0]"
      ],
      "execution_count": null,
      "outputs": []
    },
    {
      "cell_type": "code",
      "metadata": {
        "id": "ymSEZpk9sRtf"
      },
      "source": [
        "#Create new columns that will be used to store the output from running the API using the IP Address\n",
        "df[\"country_name\"]=\"\"\n",
        "df[\"city\"]=\"\"\n",
        "df[\"continent_name\"]=\"\"\n",
        "df[\"zip\"]=\"\""
      ],
      "execution_count": null,
      "outputs": []
    },
    {
      "cell_type": "code",
      "metadata": {
        "id": "NsSr2aIVswKG"
      },
      "source": [
        "#Use the API to get Country, city, continent and Zip .Save the data to csv\n",
        "import requests\n",
        "for i in range(102,2549):\n",
        "    if(df.iloc[i,4].split('.')[0]!='192' or '127'):\n",
        "        response = requests.get(\"http://api.ipstack.com/\"+df.iloc[i,4]+\"?access_key=8f9c2a205e49c7fc153a543710843872\")\n",
        "        print(\"************\",i,\"*****************\")\n",
        "        print(response.json())\n",
        "        df.iloc[i,8]=response.json()[\"country_name\"]\n",
        "        df.iloc[i,9]=response.json()[\"city\"]\n",
        "        df.iloc[i,10]=response.json()[\"continent_name\"]\n",
        "        df.iloc[i,11]=response.json()[\"zip\"]"
      ],
      "execution_count": null,
      "outputs": []
    },
    {
      "cell_type": "code",
      "metadata": {
        "id": "Pd54SOTelnZd"
      },
      "source": [
        "#Load the data which contains values for country,city,continent and zip.\n",
        "df= pd.read_csv(\"/content/drive/MyDrive/cappart1.csv\")"
      ],
      "execution_count": null,
      "outputs": []
    },
    {
      "cell_type": "markdown",
      "metadata": {
        "id": "QwwMac-93yrb"
      },
      "source": [
        "**Preprocess Data**"
      ]
    },
    {
      "cell_type": "code",
      "metadata": {
        "id": "Rf6LYlMOltwP"
      },
      "source": [
        "#Split the data into X and y\n",
        "X = df['email_content'].values.tolist()\n",
        "y = df['labels'].values.tolist()"
      ],
      "execution_count": null,
      "outputs": []
    },
    {
      "cell_type": "code",
      "metadata": {
        "id": "Rs0HeoDhl4aQ"
      },
      "source": [
        "#use the model selection to split X and y into train and validation data\n",
        "from sklearn.model_selection import train_test_split\n",
        "\n",
        "train_texts, val_texts, train_labels, val_labels = train_test_split(X,y, test_size=.2)"
      ],
      "execution_count": null,
      "outputs": []
    },
    {
      "cell_type": "code",
      "metadata": {
        "colab": {
          "base_uri": "https://localhost:8080/",
          "height": 145,
          "referenced_widgets": [
            "6f2dfd19be374151b66c4cdeda2434b6",
            "75b38aa1ccaa48d79f2af8bdfa0472a4",
            "8cabc7a2de5d473398c054c708d44634",
            "b4ec39b59c2d44489aeb6951dcd607e0",
            "d05837132b1f438a9da0621830eb2864",
            "3f7f034331c84b50941f40ac3dfd77aa",
            "f25e18b7671544c88d584613f3b3daf9",
            "bc067db4ad6a49ebab70a60b50ea8bcf",
            "2a6001ced6eb4906b98164a9434844d2",
            "937edd38e38546dc81ccd182e0639429",
            "b7145ab96dd34fe9a87c7cb2fc13722d",
            "e0df6830e72f47fba690bd43296a29e8",
            "50f9267da6ca441898e956a7c0f6b009",
            "fe3a61160e12431c921ab478af3430ee",
            "f3c71a701c3e4e8194b7b89823ced827",
            "3d7c68d5cfc24a91aac2c16f75cc6b47",
            "8a1d1c73aeeb42ca8dfc8568727b8e3d",
            "99bfaf83e7b44fb2bb16547b15e484ba",
            "5158233cdec345c1854c80e6e56c78c3",
            "010af213f7a444438694e19d24086ebf",
            "15ec5590a15f416ca7c895ae7581c3b0",
            "c0fb1ca5b1684429aacf8561611258bc",
            "f5de21c54ff24ce3b9a206f1976a3118",
            "b397ba179a3e4ffa837dbfc59c194748",
            "4a5873731f314721bbc5329cdabf415b",
            "fcee4bc9f1574f9fa42a3b7366e90284",
            "444b0aa9b9f64df4a7102dc02a681120",
            "2c5cb112e33b466aaf9d569133cb7209",
            "72deb09fa82e4df886980de2125bdb83",
            "50a37d5169f7499091a3a4fcc16ad822",
            "8c1f979ba8dd4485ae3be6730550e815",
            "1ca45dc5f6fb448f84213f870c295e1d",
            "6bf1726c269349c0bddc01280ca07966",
            "a8adcd3f92334573b3766d3eb91a5ccc",
            "6983239e285749aa8a6a1fe071a39ba0",
            "4d4fb6d0973647f3a3341091af337bf9",
            "4f4580db18bd49e69cbbfa39c1b641ed",
            "d8d09010a1c04445960a904e25f81243",
            "71695f1fca754daabe8e637e3ee139b6",
            "8b982be7339f459c96d69d5477611e96",
            "0509e85d49f4421dace566f56075c9fb",
            "bb8183844b1e46edaca20a5a6c099ce9",
            "8fd6b61d703d4d789b936015f9c831cd",
            "9a20a9f40b37491480b1e9df8d7402d9"
          ]
        },
        "id": "E7573d3Fl6OX",
        "outputId": "d6066a23-3461-4cec-d647-aad89d9bc439"
      },
      "source": [
        "#Import pretrained DistilBertTokenizerFast\n",
        " \n",
        "from transformers import DistilBertTokenizerFast\n",
        "tokenizer = DistilBertTokenizerFast.from_pretrained('distilbert-base-uncased')"
      ],
      "execution_count": null,
      "outputs": [
        {
          "output_type": "display_data",
          "data": {
            "application/vnd.jupyter.widget-view+json": {
              "model_id": "6f2dfd19be374151b66c4cdeda2434b6",
              "version_minor": 0,
              "version_major": 2
            },
            "text/plain": [
              "Downloading:   0%|          | 0.00/226k [00:00<?, ?B/s]"
            ]
          },
          "metadata": {}
        },
        {
          "output_type": "display_data",
          "data": {
            "application/vnd.jupyter.widget-view+json": {
              "model_id": "e0df6830e72f47fba690bd43296a29e8",
              "version_minor": 0,
              "version_major": 2
            },
            "text/plain": [
              "Downloading:   0%|          | 0.00/455k [00:00<?, ?B/s]"
            ]
          },
          "metadata": {}
        },
        {
          "output_type": "display_data",
          "data": {
            "application/vnd.jupyter.widget-view+json": {
              "model_id": "f5de21c54ff24ce3b9a206f1976a3118",
              "version_minor": 0,
              "version_major": 2
            },
            "text/plain": [
              "Downloading:   0%|          | 0.00/28.0 [00:00<?, ?B/s]"
            ]
          },
          "metadata": {}
        },
        {
          "output_type": "display_data",
          "data": {
            "application/vnd.jupyter.widget-view+json": {
              "model_id": "a8adcd3f92334573b3766d3eb91a5ccc",
              "version_minor": 0,
              "version_major": 2
            },
            "text/plain": [
              "Downloading:   0%|          | 0.00/483 [00:00<?, ?B/s]"
            ]
          },
          "metadata": {}
        }
      ]
    },
    {
      "cell_type": "code",
      "metadata": {
        "id": "h3HPifFumIzU"
      },
      "source": [
        "train_encodings = tokenizer(train_texts, truncation=True, padding=True)\n",
        "val_encodings = tokenizer(val_texts, truncation=True, padding=True)"
      ],
      "execution_count": null,
      "outputs": []
    },
    {
      "cell_type": "code",
      "metadata": {
        "id": "sstJmyf1mPrc"
      },
      "source": [
        "#Create torch dataset\n",
        "class Spam_Email(torch.utils.data.Dataset):\n",
        "    def __init__(self,encodings, labels=None):\n",
        "        self.encodings = encodings\n",
        "        self.labels = labels\n",
        "        \n",
        "    def __getitem__ (self, idx):\n",
        "        item = {key: torch.tensor(val[idx]) for key, val in self.encodings.items()}\n",
        "        if self.labels:\n",
        "            item[\"labels\"] = torch.tensor(self.labels[idx])\n",
        "        return item\n",
        "\n",
        "    def __len__(self):\n",
        "        return len(self.encodings[\"input_ids\"])\n",
        "    \n",
        "train_dataset = Spam_Email(train_encodings, train_labels)\n",
        "val_dataset = Spam_Email(val_encodings, val_labels)"
      ],
      "execution_count": null,
      "outputs": []
    },
    {
      "cell_type": "markdown",
      "metadata": {
        "id": "7aqQrqce4d7y"
      },
      "source": [
        " **Fine-tune pretrained**"
      ]
    },
    {
      "cell_type": "code",
      "metadata": {
        "id": "WYNXpTbrq0_P"
      },
      "source": [
        "#Define Trainer Parameters\n",
        "from sklearn.metrics import accuracy_score, recall_score, precision_score, f1_score\n",
        "def compute_metrics(p):\n",
        "    pred, labels = p\n",
        "    pred = np.argmax(pred, axis=1)\n",
        "\n",
        "    accuracy = accuracy_score(y_true=labels, y_pred=pred)\n",
        "    recall = recall_score(y_true=labels, y_pred=pred)\n",
        "    precision = precision_score(y_true=labels, y_pred=pred)\n",
        "    f1 = f1_score(y_true=labels, y_pred=pred)\n",
        "\n",
        "    return {\"accuracy\": accuracy, \"precision\": precision, \"recall\": recall, \"f1\": f1}\n"
      ],
      "execution_count": null,
      "outputs": []
    },
    {
      "cell_type": "code",
      "metadata": {
        "colab": {
          "base_uri": "https://localhost:8080/",
          "height": 1000,
          "referenced_widgets": [
            "baec2f115b1d4bb09f4b5ba006da18e5",
            "afdb97668fac4f499fec22ee64c00162",
            "61ee3b84d93f48949832663d6854b9e5",
            "e25a603977124e379a6e88c5d56cfeaa",
            "403d3dd6f78c4d4ea9eec663eacbf94e",
            "60fe881fac5b494c989d355ffb02b43f",
            "9a9a1ed880164ff2a5661ef8c1fc908c",
            "7e7aab5e59fa432e96930af9862a4654",
            "8d41d3b895f241c5966960a64b39aa31",
            "0e3f6be080824ba783f8e41e0ae2c390",
            "e3f95432753048f0875f8edd9278d8fd"
          ]
        },
        "id": "K9611iFGqvsf",
        "outputId": "75995c57-1a3f-46bc-ba93-59b63d53ad27"
      },
      "source": [
        "#Define Trainer\n",
        "from transformers import DistilBertForSequenceClassification, Trainer, TrainingArguments\n",
        "from transformers import EarlyStoppingCallback\n",
        "\n",
        "training_args = TrainingArguments(\n",
        "    output_dir='./results',          # output directory\n",
        "    num_train_epochs=3,              # total number of training epochs\n",
        "    per_device_train_batch_size=16,  # batch size per device during training\n",
        "    per_device_eval_batch_size=64,   # batch size for evaluation\n",
        "    warmup_steps=500,                # number of warmup steps for learning rate scheduler\n",
        "    weight_decay=0.01,               # strength of weight decay\n",
        "    logging_dir='./logs',            # directory for storing logs\n",
        "    logging_steps=10,\n",
        "    evaluation_strategy ='steps',\n",
        "    eval_steps = 10, # Evaluation and Save happens every 10 steps\n",
        "    save_total_limit = 5, # Only last 5 models are saved. Older ones are deleted.\n",
        "    load_best_model_at_end=True,\n",
        ")\n",
        "\n",
        "model = DistilBertForSequenceClassification.from_pretrained(\"distilbert-base-uncased\")\n",
        "\n",
        "trainer = Trainer(\n",
        "    model=model,                         # the instantiated 🤗 Transformers model to be trained\n",
        "    args=training_args,                  # training arguments, defined above\n",
        "    train_dataset=train_dataset,         # training dataset\n",
        "    eval_dataset=val_dataset,           # evaluation dataset\n",
        "    compute_metrics=compute_metrics,\n",
        "    callbacks=[EarlyStoppingCallback(early_stopping_patience=3)],\n",
        ")\n",
        "\n",
        "#Train pre-trained model\n",
        "trainer.train()"
      ],
      "execution_count": null,
      "outputs": [
        {
          "output_type": "display_data",
          "data": {
            "application/vnd.jupyter.widget-view+json": {
              "model_id": "baec2f115b1d4bb09f4b5ba006da18e5",
              "version_minor": 0,
              "version_major": 2
            },
            "text/plain": [
              "Downloading:   0%|          | 0.00/256M [00:00<?, ?B/s]"
            ]
          },
          "metadata": {}
        },
        {
          "output_type": "stream",
          "name": "stderr",
          "text": [
            "Some weights of the model checkpoint at distilbert-base-uncased were not used when initializing DistilBertForSequenceClassification: ['vocab_transform.bias', 'vocab_projector.bias', 'vocab_transform.weight', 'vocab_layer_norm.weight', 'vocab_projector.weight', 'vocab_layer_norm.bias']\n",
            "- This IS expected if you are initializing DistilBertForSequenceClassification from the checkpoint of a model trained on another task or with another architecture (e.g. initializing a BertForSequenceClassification model from a BertForPreTraining model).\n",
            "- This IS NOT expected if you are initializing DistilBertForSequenceClassification from the checkpoint of a model that you expect to be exactly identical (initializing a BertForSequenceClassification model from a BertForSequenceClassification model).\n",
            "Some weights of DistilBertForSequenceClassification were not initialized from the model checkpoint at distilbert-base-uncased and are newly initialized: ['classifier.weight', 'classifier.bias', 'pre_classifier.weight', 'pre_classifier.bias']\n",
            "You should probably TRAIN this model on a down-stream task to be able to use it for predictions and inference.\n",
            "***** Running training *****\n",
            "  Num examples = 3110\n",
            "  Num Epochs = 3\n",
            "  Instantaneous batch size per device = 16\n",
            "  Total train batch size (w. parallel, distributed & accumulation) = 16\n",
            "  Gradient Accumulation steps = 1\n",
            "  Total optimization steps = 585\n"
          ]
        },
        {
          "output_type": "display_data",
          "data": {
            "text/html": [
              "\n",
              "    <div>\n",
              "      \n",
              "      <progress value='585' max='585' style='width:300px; height:20px; vertical-align: middle;'></progress>\n",
              "      [585/585 39:23, Epoch 3/3]\n",
              "    </div>\n",
              "    <table border=\"1\" class=\"dataframe\">\n",
              "  <thead>\n",
              "    <tr style=\"text-align: left;\">\n",
              "      <th>Step</th>\n",
              "      <th>Training Loss</th>\n",
              "      <th>Validation Loss</th>\n",
              "      <th>Accuracy</th>\n",
              "      <th>Precision</th>\n",
              "      <th>Recall</th>\n",
              "      <th>F1</th>\n",
              "    </tr>\n",
              "  </thead>\n",
              "  <tbody>\n",
              "    <tr>\n",
              "      <td>10</td>\n",
              "      <td>0.718000</td>\n",
              "      <td>0.711382</td>\n",
              "      <td>0.338046</td>\n",
              "      <td>0.000000</td>\n",
              "      <td>0.000000</td>\n",
              "      <td>0.000000</td>\n",
              "    </tr>\n",
              "    <tr>\n",
              "      <td>20</td>\n",
              "      <td>0.706300</td>\n",
              "      <td>0.690870</td>\n",
              "      <td>0.401028</td>\n",
              "      <td>0.915254</td>\n",
              "      <td>0.104854</td>\n",
              "      <td>0.188153</td>\n",
              "    </tr>\n",
              "    <tr>\n",
              "      <td>30</td>\n",
              "      <td>0.687400</td>\n",
              "      <td>0.661629</td>\n",
              "      <td>0.852185</td>\n",
              "      <td>0.849650</td>\n",
              "      <td>0.943689</td>\n",
              "      <td>0.894204</td>\n",
              "    </tr>\n",
              "    <tr>\n",
              "      <td>40</td>\n",
              "      <td>0.650500</td>\n",
              "      <td>0.618399</td>\n",
              "      <td>0.847044</td>\n",
              "      <td>0.836735</td>\n",
              "      <td>0.955340</td>\n",
              "      <td>0.892112</td>\n",
              "    </tr>\n",
              "    <tr>\n",
              "      <td>50</td>\n",
              "      <td>0.594000</td>\n",
              "      <td>0.544193</td>\n",
              "      <td>0.844473</td>\n",
              "      <td>0.836177</td>\n",
              "      <td>0.951456</td>\n",
              "      <td>0.890100</td>\n",
              "    </tr>\n",
              "    <tr>\n",
              "      <td>60</td>\n",
              "      <td>0.509200</td>\n",
              "      <td>0.453112</td>\n",
              "      <td>0.848329</td>\n",
              "      <td>0.837012</td>\n",
              "      <td>0.957282</td>\n",
              "      <td>0.893116</td>\n",
              "    </tr>\n",
              "    <tr>\n",
              "      <td>70</td>\n",
              "      <td>0.373700</td>\n",
              "      <td>0.373550</td>\n",
              "      <td>0.849614</td>\n",
              "      <td>0.843103</td>\n",
              "      <td>0.949515</td>\n",
              "      <td>0.893151</td>\n",
              "    </tr>\n",
              "    <tr>\n",
              "      <td>80</td>\n",
              "      <td>0.343200</td>\n",
              "      <td>0.328203</td>\n",
              "      <td>0.857326</td>\n",
              "      <td>0.858156</td>\n",
              "      <td>0.939806</td>\n",
              "      <td>0.897127</td>\n",
              "    </tr>\n",
              "    <tr>\n",
              "      <td>90</td>\n",
              "      <td>0.352900</td>\n",
              "      <td>0.291902</td>\n",
              "      <td>0.867609</td>\n",
              "      <td>0.870504</td>\n",
              "      <td>0.939806</td>\n",
              "      <td>0.903828</td>\n",
              "    </tr>\n",
              "    <tr>\n",
              "      <td>100</td>\n",
              "      <td>0.202400</td>\n",
              "      <td>0.253920</td>\n",
              "      <td>0.906170</td>\n",
              "      <td>0.916981</td>\n",
              "      <td>0.943689</td>\n",
              "      <td>0.930144</td>\n",
              "    </tr>\n",
              "    <tr>\n",
              "      <td>110</td>\n",
              "      <td>0.250400</td>\n",
              "      <td>0.221519</td>\n",
              "      <td>0.938303</td>\n",
              "      <td>0.962376</td>\n",
              "      <td>0.943689</td>\n",
              "      <td>0.952941</td>\n",
              "    </tr>\n",
              "    <tr>\n",
              "      <td>120</td>\n",
              "      <td>0.138000</td>\n",
              "      <td>0.207410</td>\n",
              "      <td>0.930591</td>\n",
              "      <td>0.942418</td>\n",
              "      <td>0.953398</td>\n",
              "      <td>0.947876</td>\n",
              "    </tr>\n",
              "    <tr>\n",
              "      <td>130</td>\n",
              "      <td>0.124200</td>\n",
              "      <td>0.183275</td>\n",
              "      <td>0.944730</td>\n",
              "      <td>0.981633</td>\n",
              "      <td>0.933981</td>\n",
              "      <td>0.957214</td>\n",
              "    </tr>\n",
              "    <tr>\n",
              "      <td>140</td>\n",
              "      <td>0.157000</td>\n",
              "      <td>0.177190</td>\n",
              "      <td>0.947301</td>\n",
              "      <td>0.968379</td>\n",
              "      <td>0.951456</td>\n",
              "      <td>0.959843</td>\n",
              "    </tr>\n",
              "    <tr>\n",
              "      <td>150</td>\n",
              "      <td>0.177900</td>\n",
              "      <td>0.138445</td>\n",
              "      <td>0.951157</td>\n",
              "      <td>0.972277</td>\n",
              "      <td>0.953398</td>\n",
              "      <td>0.962745</td>\n",
              "    </tr>\n",
              "    <tr>\n",
              "      <td>160</td>\n",
              "      <td>0.153100</td>\n",
              "      <td>0.144516</td>\n",
              "      <td>0.958869</td>\n",
              "      <td>0.983968</td>\n",
              "      <td>0.953398</td>\n",
              "      <td>0.968442</td>\n",
              "    </tr>\n",
              "    <tr>\n",
              "      <td>170</td>\n",
              "      <td>0.146400</td>\n",
              "      <td>0.113962</td>\n",
              "      <td>0.957584</td>\n",
              "      <td>0.980080</td>\n",
              "      <td>0.955340</td>\n",
              "      <td>0.967552</td>\n",
              "    </tr>\n",
              "    <tr>\n",
              "      <td>180</td>\n",
              "      <td>0.063500</td>\n",
              "      <td>0.112409</td>\n",
              "      <td>0.960154</td>\n",
              "      <td>0.982072</td>\n",
              "      <td>0.957282</td>\n",
              "      <td>0.969518</td>\n",
              "    </tr>\n",
              "    <tr>\n",
              "      <td>190</td>\n",
              "      <td>0.089100</td>\n",
              "      <td>0.105803</td>\n",
              "      <td>0.974293</td>\n",
              "      <td>0.973231</td>\n",
              "      <td>0.988350</td>\n",
              "      <td>0.980732</td>\n",
              "    </tr>\n",
              "    <tr>\n",
              "      <td>200</td>\n",
              "      <td>0.094200</td>\n",
              "      <td>0.092772</td>\n",
              "      <td>0.970437</td>\n",
              "      <td>0.984252</td>\n",
              "      <td>0.970874</td>\n",
              "      <td>0.977517</td>\n",
              "    </tr>\n",
              "    <tr>\n",
              "      <td>210</td>\n",
              "      <td>0.088000</td>\n",
              "      <td>0.091555</td>\n",
              "      <td>0.970437</td>\n",
              "      <td>0.990040</td>\n",
              "      <td>0.965049</td>\n",
              "      <td>0.977384</td>\n",
              "    </tr>\n",
              "    <tr>\n",
              "      <td>220</td>\n",
              "      <td>0.111000</td>\n",
              "      <td>0.114393</td>\n",
              "      <td>0.973008</td>\n",
              "      <td>0.973180</td>\n",
              "      <td>0.986408</td>\n",
              "      <td>0.979749</td>\n",
              "    </tr>\n",
              "    <tr>\n",
              "      <td>230</td>\n",
              "      <td>0.083100</td>\n",
              "      <td>0.112400</td>\n",
              "      <td>0.967866</td>\n",
              "      <td>0.984190</td>\n",
              "      <td>0.966990</td>\n",
              "      <td>0.975514</td>\n",
              "    </tr>\n",
              "    <tr>\n",
              "      <td>240</td>\n",
              "      <td>0.054200</td>\n",
              "      <td>0.097674</td>\n",
              "      <td>0.973008</td>\n",
              "      <td>0.984314</td>\n",
              "      <td>0.974757</td>\n",
              "      <td>0.979512</td>\n",
              "    </tr>\n",
              "    <tr>\n",
              "      <td>250</td>\n",
              "      <td>0.111600</td>\n",
              "      <td>0.093521</td>\n",
              "      <td>0.974293</td>\n",
              "      <td>0.986248</td>\n",
              "      <td>0.974757</td>\n",
              "      <td>0.980469</td>\n",
              "    </tr>\n",
              "    <tr>\n",
              "      <td>260</td>\n",
              "      <td>0.090000</td>\n",
              "      <td>0.081610</td>\n",
              "      <td>0.978149</td>\n",
              "      <td>0.988235</td>\n",
              "      <td>0.978641</td>\n",
              "      <td>0.983415</td>\n",
              "    </tr>\n",
              "    <tr>\n",
              "      <td>270</td>\n",
              "      <td>0.019300</td>\n",
              "      <td>0.095315</td>\n",
              "      <td>0.976864</td>\n",
              "      <td>0.990138</td>\n",
              "      <td>0.974757</td>\n",
              "      <td>0.982387</td>\n",
              "    </tr>\n",
              "    <tr>\n",
              "      <td>280</td>\n",
              "      <td>0.053800</td>\n",
              "      <td>0.176191</td>\n",
              "      <td>0.957584</td>\n",
              "      <td>0.949627</td>\n",
              "      <td>0.988350</td>\n",
              "      <td>0.968601</td>\n",
              "    </tr>\n",
              "    <tr>\n",
              "      <td>290</td>\n",
              "      <td>0.081300</td>\n",
              "      <td>0.173330</td>\n",
              "      <td>0.952442</td>\n",
              "      <td>0.993802</td>\n",
              "      <td>0.933981</td>\n",
              "      <td>0.962963</td>\n",
              "    </tr>\n",
              "    <tr>\n",
              "      <td>300</td>\n",
              "      <td>0.125600</td>\n",
              "      <td>0.126318</td>\n",
              "      <td>0.969152</td>\n",
              "      <td>0.974855</td>\n",
              "      <td>0.978641</td>\n",
              "      <td>0.976744</td>\n",
              "    </tr>\n",
              "    <tr>\n",
              "      <td>310</td>\n",
              "      <td>0.132700</td>\n",
              "      <td>0.075115</td>\n",
              "      <td>0.980720</td>\n",
              "      <td>0.986381</td>\n",
              "      <td>0.984466</td>\n",
              "      <td>0.985423</td>\n",
              "    </tr>\n",
              "    <tr>\n",
              "      <td>320</td>\n",
              "      <td>0.062300</td>\n",
              "      <td>0.068546</td>\n",
              "      <td>0.979434</td>\n",
              "      <td>0.988258</td>\n",
              "      <td>0.980583</td>\n",
              "      <td>0.984405</td>\n",
              "    </tr>\n",
              "    <tr>\n",
              "      <td>330</td>\n",
              "      <td>0.060300</td>\n",
              "      <td>0.084763</td>\n",
              "      <td>0.980720</td>\n",
              "      <td>0.984496</td>\n",
              "      <td>0.986408</td>\n",
              "      <td>0.985451</td>\n",
              "    </tr>\n",
              "    <tr>\n",
              "      <td>340</td>\n",
              "      <td>0.049200</td>\n",
              "      <td>0.092382</td>\n",
              "      <td>0.978149</td>\n",
              "      <td>0.977011</td>\n",
              "      <td>0.990291</td>\n",
              "      <td>0.983607</td>\n",
              "    </tr>\n",
              "    <tr>\n",
              "      <td>350</td>\n",
              "      <td>0.105000</td>\n",
              "      <td>0.076440</td>\n",
              "      <td>0.983290</td>\n",
              "      <td>0.986434</td>\n",
              "      <td>0.988350</td>\n",
              "      <td>0.987391</td>\n",
              "    </tr>\n",
              "    <tr>\n",
              "      <td>360</td>\n",
              "      <td>0.030700</td>\n",
              "      <td>0.084167</td>\n",
              "      <td>0.980720</td>\n",
              "      <td>0.996032</td>\n",
              "      <td>0.974757</td>\n",
              "      <td>0.985280</td>\n",
              "    </tr>\n",
              "    <tr>\n",
              "      <td>370</td>\n",
              "      <td>0.006500</td>\n",
              "      <td>0.087017</td>\n",
              "      <td>0.978149</td>\n",
              "      <td>0.988235</td>\n",
              "      <td>0.978641</td>\n",
              "      <td>0.983415</td>\n",
              "    </tr>\n",
              "    <tr>\n",
              "      <td>380</td>\n",
              "      <td>0.052000</td>\n",
              "      <td>0.124361</td>\n",
              "      <td>0.971722</td>\n",
              "      <td>0.965974</td>\n",
              "      <td>0.992233</td>\n",
              "      <td>0.978927</td>\n",
              "    </tr>\n",
              "    <tr>\n",
              "      <td>390</td>\n",
              "      <td>0.038700</td>\n",
              "      <td>0.095429</td>\n",
              "      <td>0.978149</td>\n",
              "      <td>0.980695</td>\n",
              "      <td>0.986408</td>\n",
              "      <td>0.983543</td>\n",
              "    </tr>\n",
              "    <tr>\n",
              "      <td>400</td>\n",
              "      <td>0.007200</td>\n",
              "      <td>0.093985</td>\n",
              "      <td>0.978149</td>\n",
              "      <td>0.992095</td>\n",
              "      <td>0.974757</td>\n",
              "      <td>0.983350</td>\n",
              "    </tr>\n",
              "    <tr>\n",
              "      <td>410</td>\n",
              "      <td>0.035400</td>\n",
              "      <td>0.070757</td>\n",
              "      <td>0.984576</td>\n",
              "      <td>0.992172</td>\n",
              "      <td>0.984466</td>\n",
              "      <td>0.988304</td>\n",
              "    </tr>\n",
              "    <tr>\n",
              "      <td>420</td>\n",
              "      <td>0.032500</td>\n",
              "      <td>0.077995</td>\n",
              "      <td>0.984576</td>\n",
              "      <td>0.984586</td>\n",
              "      <td>0.992233</td>\n",
              "      <td>0.988395</td>\n",
              "    </tr>\n",
              "    <tr>\n",
              "      <td>430</td>\n",
              "      <td>0.005000</td>\n",
              "      <td>0.082573</td>\n",
              "      <td>0.980720</td>\n",
              "      <td>0.988281</td>\n",
              "      <td>0.982524</td>\n",
              "      <td>0.985394</td>\n",
              "    </tr>\n",
              "    <tr>\n",
              "      <td>440</td>\n",
              "      <td>0.060200</td>\n",
              "      <td>0.071203</td>\n",
              "      <td>0.985861</td>\n",
              "      <td>0.990272</td>\n",
              "      <td>0.988350</td>\n",
              "      <td>0.989310</td>\n",
              "    </tr>\n",
              "    <tr>\n",
              "      <td>450</td>\n",
              "      <td>0.002000</td>\n",
              "      <td>0.073494</td>\n",
              "      <td>0.984576</td>\n",
              "      <td>0.990253</td>\n",
              "      <td>0.986408</td>\n",
              "      <td>0.988327</td>\n",
              "    </tr>\n",
              "    <tr>\n",
              "      <td>460</td>\n",
              "      <td>0.017500</td>\n",
              "      <td>0.090077</td>\n",
              "      <td>0.982005</td>\n",
              "      <td>0.986408</td>\n",
              "      <td>0.986408</td>\n",
              "      <td>0.986408</td>\n",
              "    </tr>\n",
              "    <tr>\n",
              "      <td>470</td>\n",
              "      <td>0.079100</td>\n",
              "      <td>0.098670</td>\n",
              "      <td>0.979434</td>\n",
              "      <td>0.990177</td>\n",
              "      <td>0.978641</td>\n",
              "      <td>0.984375</td>\n",
              "    </tr>\n",
              "    <tr>\n",
              "      <td>480</td>\n",
              "      <td>0.057400</td>\n",
              "      <td>0.078133</td>\n",
              "      <td>0.983290</td>\n",
              "      <td>0.994094</td>\n",
              "      <td>0.980583</td>\n",
              "      <td>0.987292</td>\n",
              "    </tr>\n",
              "    <tr>\n",
              "      <td>490</td>\n",
              "      <td>0.044100</td>\n",
              "      <td>0.093893</td>\n",
              "      <td>0.978149</td>\n",
              "      <td>0.984436</td>\n",
              "      <td>0.982524</td>\n",
              "      <td>0.983479</td>\n",
              "    </tr>\n",
              "    <tr>\n",
              "      <td>500</td>\n",
              "      <td>0.004400</td>\n",
              "      <td>0.086311</td>\n",
              "      <td>0.982005</td>\n",
              "      <td>0.994083</td>\n",
              "      <td>0.978641</td>\n",
              "      <td>0.986301</td>\n",
              "    </tr>\n",
              "    <tr>\n",
              "      <td>510</td>\n",
              "      <td>0.044300</td>\n",
              "      <td>0.249647</td>\n",
              "      <td>0.944730</td>\n",
              "      <td>0.930657</td>\n",
              "      <td>0.990291</td>\n",
              "      <td>0.959548</td>\n",
              "    </tr>\n",
              "    <tr>\n",
              "      <td>520</td>\n",
              "      <td>0.068000</td>\n",
              "      <td>0.074147</td>\n",
              "      <td>0.985861</td>\n",
              "      <td>0.992188</td>\n",
              "      <td>0.986408</td>\n",
              "      <td>0.989289</td>\n",
              "    </tr>\n",
              "    <tr>\n",
              "      <td>530</td>\n",
              "      <td>0.018000</td>\n",
              "      <td>0.117409</td>\n",
              "      <td>0.976864</td>\n",
              "      <td>0.975143</td>\n",
              "      <td>0.990291</td>\n",
              "      <td>0.982659</td>\n",
              "    </tr>\n",
              "    <tr>\n",
              "      <td>540</td>\n",
              "      <td>0.001600</td>\n",
              "      <td>0.094722</td>\n",
              "      <td>0.982005</td>\n",
              "      <td>0.984526</td>\n",
              "      <td>0.988350</td>\n",
              "      <td>0.986434</td>\n",
              "    </tr>\n",
              "    <tr>\n",
              "      <td>550</td>\n",
              "      <td>0.088900</td>\n",
              "      <td>0.079720</td>\n",
              "      <td>0.984576</td>\n",
              "      <td>0.992172</td>\n",
              "      <td>0.984466</td>\n",
              "      <td>0.988304</td>\n",
              "    </tr>\n",
              "    <tr>\n",
              "      <td>560</td>\n",
              "      <td>0.006900</td>\n",
              "      <td>0.073947</td>\n",
              "      <td>0.985861</td>\n",
              "      <td>0.994118</td>\n",
              "      <td>0.984466</td>\n",
              "      <td>0.989268</td>\n",
              "    </tr>\n",
              "    <tr>\n",
              "      <td>570</td>\n",
              "      <td>0.001400</td>\n",
              "      <td>0.073271</td>\n",
              "      <td>0.985861</td>\n",
              "      <td>0.992188</td>\n",
              "      <td>0.986408</td>\n",
              "      <td>0.989289</td>\n",
              "    </tr>\n",
              "    <tr>\n",
              "      <td>580</td>\n",
              "      <td>0.088200</td>\n",
              "      <td>0.071654</td>\n",
              "      <td>0.985861</td>\n",
              "      <td>0.992188</td>\n",
              "      <td>0.986408</td>\n",
              "      <td>0.989289</td>\n",
              "    </tr>\n",
              "  </tbody>\n",
              "</table><p>"
            ],
            "text/plain": [
              "<IPython.core.display.HTML object>"
            ]
          },
          "metadata": {}
        },
        {
          "output_type": "stream",
          "name": "stderr",
          "text": [
            "***** Running Evaluation *****\n",
            "  Num examples = 778\n",
            "  Batch size = 64\n",
            "/usr/local/lib/python3.7/dist-packages/sklearn/metrics/_classification.py:1308: UndefinedMetricWarning: Precision is ill-defined and being set to 0.0 due to no predicted samples. Use `zero_division` parameter to control this behavior.\n",
            "  _warn_prf(average, modifier, msg_start, len(result))\n",
            "***** Running Evaluation *****\n",
            "  Num examples = 778\n",
            "  Batch size = 64\n",
            "***** Running Evaluation *****\n",
            "  Num examples = 778\n",
            "  Batch size = 64\n",
            "***** Running Evaluation *****\n",
            "  Num examples = 778\n",
            "  Batch size = 64\n",
            "***** Running Evaluation *****\n",
            "  Num examples = 778\n",
            "  Batch size = 64\n",
            "***** Running Evaluation *****\n",
            "  Num examples = 778\n",
            "  Batch size = 64\n",
            "***** Running Evaluation *****\n",
            "  Num examples = 778\n",
            "  Batch size = 64\n",
            "***** Running Evaluation *****\n",
            "  Num examples = 778\n",
            "  Batch size = 64\n",
            "***** Running Evaluation *****\n",
            "  Num examples = 778\n",
            "  Batch size = 64\n",
            "***** Running Evaluation *****\n",
            "  Num examples = 778\n",
            "  Batch size = 64\n",
            "***** Running Evaluation *****\n",
            "  Num examples = 778\n",
            "  Batch size = 64\n",
            "***** Running Evaluation *****\n",
            "  Num examples = 778\n",
            "  Batch size = 64\n",
            "***** Running Evaluation *****\n",
            "  Num examples = 778\n",
            "  Batch size = 64\n",
            "***** Running Evaluation *****\n",
            "  Num examples = 778\n",
            "  Batch size = 64\n",
            "***** Running Evaluation *****\n",
            "  Num examples = 778\n",
            "  Batch size = 64\n",
            "***** Running Evaluation *****\n",
            "  Num examples = 778\n",
            "  Batch size = 64\n",
            "***** Running Evaluation *****\n",
            "  Num examples = 778\n",
            "  Batch size = 64\n",
            "***** Running Evaluation *****\n",
            "  Num examples = 778\n",
            "  Batch size = 64\n",
            "***** Running Evaluation *****\n",
            "  Num examples = 778\n",
            "  Batch size = 64\n",
            "***** Running Evaluation *****\n",
            "  Num examples = 778\n",
            "  Batch size = 64\n",
            "***** Running Evaluation *****\n",
            "  Num examples = 778\n",
            "  Batch size = 64\n",
            "***** Running Evaluation *****\n",
            "  Num examples = 778\n",
            "  Batch size = 64\n",
            "***** Running Evaluation *****\n",
            "  Num examples = 778\n",
            "  Batch size = 64\n",
            "***** Running Evaluation *****\n",
            "  Num examples = 778\n",
            "  Batch size = 64\n",
            "***** Running Evaluation *****\n",
            "  Num examples = 778\n",
            "  Batch size = 64\n",
            "***** Running Evaluation *****\n",
            "  Num examples = 778\n",
            "  Batch size = 64\n",
            "***** Running Evaluation *****\n",
            "  Num examples = 778\n",
            "  Batch size = 64\n",
            "***** Running Evaluation *****\n",
            "  Num examples = 778\n",
            "  Batch size = 64\n",
            "***** Running Evaluation *****\n",
            "  Num examples = 778\n",
            "  Batch size = 64\n",
            "***** Running Evaluation *****\n",
            "  Num examples = 778\n",
            "  Batch size = 64\n",
            "***** Running Evaluation *****\n",
            "  Num examples = 778\n",
            "  Batch size = 64\n",
            "***** Running Evaluation *****\n",
            "  Num examples = 778\n",
            "  Batch size = 64\n",
            "***** Running Evaluation *****\n",
            "  Num examples = 778\n",
            "  Batch size = 64\n",
            "***** Running Evaluation *****\n",
            "  Num examples = 778\n",
            "  Batch size = 64\n",
            "***** Running Evaluation *****\n",
            "  Num examples = 778\n",
            "  Batch size = 64\n",
            "***** Running Evaluation *****\n",
            "  Num examples = 778\n",
            "  Batch size = 64\n",
            "***** Running Evaluation *****\n",
            "  Num examples = 778\n",
            "  Batch size = 64\n",
            "***** Running Evaluation *****\n",
            "  Num examples = 778\n",
            "  Batch size = 64\n",
            "***** Running Evaluation *****\n",
            "  Num examples = 778\n",
            "  Batch size = 64\n",
            "***** Running Evaluation *****\n",
            "  Num examples = 778\n",
            "  Batch size = 64\n",
            "***** Running Evaluation *****\n",
            "  Num examples = 778\n",
            "  Batch size = 64\n",
            "***** Running Evaluation *****\n",
            "  Num examples = 778\n",
            "  Batch size = 64\n",
            "***** Running Evaluation *****\n",
            "  Num examples = 778\n",
            "  Batch size = 64\n",
            "***** Running Evaluation *****\n",
            "  Num examples = 778\n",
            "  Batch size = 64\n",
            "***** Running Evaluation *****\n",
            "  Num examples = 778\n",
            "  Batch size = 64\n",
            "***** Running Evaluation *****\n",
            "  Num examples = 778\n",
            "  Batch size = 64\n",
            "***** Running Evaluation *****\n",
            "  Num examples = 778\n",
            "  Batch size = 64\n",
            "***** Running Evaluation *****\n",
            "  Num examples = 778\n",
            "  Batch size = 64\n",
            "***** Running Evaluation *****\n",
            "  Num examples = 778\n",
            "  Batch size = 64\n",
            "***** Running Evaluation *****\n",
            "  Num examples = 778\n",
            "  Batch size = 64\n",
            "Saving model checkpoint to ./results/checkpoint-500\n",
            "Configuration saved in ./results/checkpoint-500/config.json\n",
            "Model weights saved in ./results/checkpoint-500/pytorch_model.bin\n",
            "***** Running Evaluation *****\n",
            "  Num examples = 778\n",
            "  Batch size = 64\n",
            "***** Running Evaluation *****\n",
            "  Num examples = 778\n",
            "  Batch size = 64\n",
            "***** Running Evaluation *****\n",
            "  Num examples = 778\n",
            "  Batch size = 64\n",
            "***** Running Evaluation *****\n",
            "  Num examples = 778\n",
            "  Batch size = 64\n",
            "***** Running Evaluation *****\n",
            "  Num examples = 778\n",
            "  Batch size = 64\n",
            "***** Running Evaluation *****\n",
            "  Num examples = 778\n",
            "  Batch size = 64\n",
            "***** Running Evaluation *****\n",
            "  Num examples = 778\n",
            "  Batch size = 64\n",
            "***** Running Evaluation *****\n",
            "  Num examples = 778\n",
            "  Batch size = 64\n",
            "\n",
            "\n",
            "Training completed. Do not forget to share your model on huggingface.co/models =)\n",
            "\n",
            "\n",
            "Loading best model from ./results/checkpoint-500 (score: 0.08631075918674469).\n"
          ]
        },
        {
          "output_type": "execute_result",
          "data": {
            "text/plain": [
              "TrainOutput(global_step=585, training_loss=0.1461422957599354, metrics={'train_runtime': 2365.3062, 'train_samples_per_second': 3.945, 'train_steps_per_second': 0.247, 'total_flos': 1235920829460480.0, 'train_loss': 0.1461422957599354, 'epoch': 3.0})"
            ]
          },
          "metadata": {},
          "execution_count": 12
        }
      ]
    },
    {
      "cell_type": "markdown",
      "metadata": {
        "id": "1jab2rWC5csX"
      },
      "source": [
        " **Predict**"
      ]
    },
    {
      "cell_type": "code",
      "metadata": {
        "colab": {
          "base_uri": "https://localhost:8080/"
        },
        "id": "MXHFxqLBISRx",
        "outputId": "09a9d781-a108-41da-b139-9fabc976b3eb"
      },
      "source": [
        "#Use the val_dataset created from torch dataset\n",
        "test_dataset = val_dataset\n",
        "# Load trained model\n",
        "model_path = \"/content/results/checkpoint-500\"\n",
        "model = DistilBertForSequenceClassification.from_pretrained(model_path, num_labels=2)\n"
      ],
      "execution_count": null,
      "outputs": [
        {
          "output_type": "stream",
          "name": "stderr",
          "text": [
            "loading configuration file /content/results/checkpoint-500/config.json\n",
            "Model config DistilBertConfig {\n",
            "  \"_name_or_path\": \"distilbert-base-uncased\",\n",
            "  \"activation\": \"gelu\",\n",
            "  \"architectures\": [\n",
            "    \"DistilBertForSequenceClassification\"\n",
            "  ],\n",
            "  \"attention_dropout\": 0.1,\n",
            "  \"dim\": 768,\n",
            "  \"dropout\": 0.1,\n",
            "  \"hidden_dim\": 3072,\n",
            "  \"initializer_range\": 0.02,\n",
            "  \"max_position_embeddings\": 512,\n",
            "  \"model_type\": \"distilbert\",\n",
            "  \"n_heads\": 12,\n",
            "  \"n_layers\": 6,\n",
            "  \"pad_token_id\": 0,\n",
            "  \"problem_type\": \"single_label_classification\",\n",
            "  \"qa_dropout\": 0.1,\n",
            "  \"seq_classif_dropout\": 0.2,\n",
            "  \"sinusoidal_pos_embds\": false,\n",
            "  \"tie_weights_\": true,\n",
            "  \"torch_dtype\": \"float32\",\n",
            "  \"transformers_version\": \"4.12.5\",\n",
            "  \"vocab_size\": 30522\n",
            "}\n",
            "\n",
            "loading weights file /content/results/checkpoint-500/pytorch_model.bin\n",
            "All model checkpoint weights were used when initializing DistilBertForSequenceClassification.\n",
            "\n",
            "All the weights of DistilBertForSequenceClassification were initialized from the model checkpoint at /content/results/checkpoint-500.\n",
            "If your task is similar to the task the model of the checkpoint was trained on, you can already use DistilBertForSequenceClassification for predictions without further training.\n"
          ]
        }
      ]
    },
    {
      "cell_type": "code",
      "metadata": {
        "colab": {
          "base_uri": "https://localhost:8080/",
          "height": 161
        },
        "id": "62MayI8mQE-O",
        "outputId": "e10f2945-8516-4913-f281-f29cd23f349b"
      },
      "source": [
        "# Define test trainer\n",
        "test_trainer = Trainer(model)\n",
        "\n",
        "# Make prediction\n",
        "raw_pred, _, _ = test_trainer.predict(test_dataset)"
      ],
      "execution_count": null,
      "outputs": [
        {
          "output_type": "stream",
          "name": "stderr",
          "text": [
            "No `TrainingArguments` passed, using `output_dir=tmp_trainer`.\n",
            "PyTorch: setting up devices\n",
            "The default value for the training argument `--report_to` will change in v5 (from all installed integrations to none). In v5, you will need to use `--report_to all` to get the same behavior as now. You should start updating your code and make this info disappear :-).\n",
            "***** Running Prediction *****\n",
            "  Num examples = 778\n",
            "  Batch size = 8\n"
          ]
        },
        {
          "output_type": "display_data",
          "data": {
            "text/html": [
              "\n",
              "    <div>\n",
              "      \n",
              "      <progress value='98' max='98' style='width:300px; height:20px; vertical-align: middle;'></progress>\n",
              "      [98/98 00:26]\n",
              "    </div>\n",
              "    "
            ],
            "text/plain": [
              "<IPython.core.display.HTML object>"
            ]
          },
          "metadata": {}
        }
      ]
    },
    {
      "cell_type": "code",
      "metadata": {
        "id": "rFkJq3WCSfXp"
      },
      "source": [
        "#Preprocess raw predictions\n",
        "y_pred = np.argmax(raw_pred, axis=1) \n",
        "\n",
        "#true label\n",
        "y_true = val_labels"
      ],
      "execution_count": null,
      "outputs": []
    },
    {
      "cell_type": "code",
      "metadata": {
        "colab": {
          "base_uri": "https://localhost:8080/"
        },
        "id": "1lX0QTIFSs9i",
        "outputId": "08ea2a36-8ac1-4b21-acc9-a880ea13be59"
      },
      "source": [
        "#print metrics for the model for the dataset\n",
        "#Accuracy\n",
        "accuracy = accuracy_score(y_true, y_pred)\n",
        "#Recall\n",
        "recall = recall_score(y_true, y_pred)\n",
        "#Precision\n",
        "precision = precision_score(y_true, y_pred)\n",
        "#F1\n",
        "f1 = f1_score(y_true, y_pred)\n",
        "print(accuracy)\n",
        "print(recall)\n",
        "print(precision)\n",
        "print(f1)   "
      ],
      "execution_count": null,
      "outputs": [
        {
          "output_type": "stream",
          "name": "stdout",
          "text": [
            "0.9820051413881749\n",
            "0.9786407766990292\n",
            "0.9940828402366864\n",
            "0.9863013698630136\n"
          ]
        }
      ]
    },
    {
      "cell_type": "code",
      "metadata": {
        "colab": {
          "base_uri": "https://localhost:8080/"
        },
        "id": "FCv3jLOhBEK1",
        "outputId": "dd771334-1e19-4dfc-f02f-60043607f6f9"
      },
      "source": [
        "#Confusion matrix\n",
        "from sklearn.metrics import confusion_matrix\n",
        "confusion_matrix(y_true, y_pred)"
      ],
      "execution_count": null,
      "outputs": [
        {
          "output_type": "execute_result",
          "data": {
            "text/plain": [
              "array([[260,   3],\n",
              "       [ 11, 504]])"
            ]
          },
          "metadata": {},
          "execution_count": 18
        }
      ]
    },
    {
      "cell_type": "code",
      "metadata": {
        "id": "iUndpo7Swm1r"
      },
      "source": [
        "#add the prediction to the dataset\n",
        "df.loc[:,'predict_close'] = pd.Series(y_pred)"
      ],
      "execution_count": null,
      "outputs": []
    },
    {
      "cell_type": "markdown",
      "metadata": {
        "id": "3TqZ54lW-u6T"
      },
      "source": [
        "**Fairness Metrics**"
      ]
    },
    {
      "cell_type": "code",
      "metadata": {
        "id": "f8PAcqVPSu9b"
      },
      "source": [
        "#Drop na in dataset\n",
        "df5 = df.dropna(axis=0, how='any', thresh=None, subset=None, inplace=False)\n",
        "df5.to_csv('final.csv')\n"
      ],
      "execution_count": null,
      "outputs": []
    },
    {
      "cell_type": "code",
      "metadata": {
        "id": "7ZeAT_wQ2vnT"
      },
      "source": [
        "#Function that lists the Confusion matrix for each of the countries\n",
        "def trythis(country):\n",
        "  y_ppred=[]\n",
        "  y_truth=[]\n",
        "  for u,v in df5.iterrows():\n",
        "    if v['country_name']==country_name:\n",
        "      y_ppred.append(v['predict_close'])\n",
        "      y_truth.append(v['labels'])\n",
        "  print(country_name)\n",
        "  print(confusion_matrix(y_truth, y_ppred))\n",
        "\n",
        "\n",
        "  plt.matshow(confusion_matrix(y_truth, y_ppred), cmap=plt.cm.binary, interpolation='nearest')\n",
        "  plt.title(country_name)\n",
        "  plt.colorbar()\n",
        "  plt.ylabel('expected label')\n",
        "  plt.xlabel('predicted label')"
      ],
      "execution_count": null,
      "outputs": []
    },
    {
      "cell_type": "code",
      "metadata": {
        "colab": {
          "base_uri": "https://localhost:8080/",
          "height": 1000
        },
        "id": "ztbkBIDTPX2A",
        "outputId": "85f24b94-b898-4b1e-b7ac-49fa424aaac3"
      },
      "source": [
        "#Call the function\n",
        "for country_name in set(df5['country_name']):\n",
        "  trythis(country_name)"
      ],
      "execution_count": null,
      "outputs": [
        {
          "output_type": "stream",
          "name": "stdout",
          "text": [
            "Spain\n",
            "[[0 3]\n",
            " [0 2]]\n",
            "Canada\n",
            "[[ 0  0]\n",
            " [ 6 12]]\n",
            "Switzerland\n",
            "[[0 1]\n",
            " [0 1]]\n",
            "Brazil\n",
            "[[3 7]\n",
            " [0 0]]\n",
            "South Korea\n",
            "[[3 3]\n",
            " [0 1]]\n",
            "Romania\n",
            "[[0 3]\n",
            " [0 0]]\n",
            "Saudi Arabia\n",
            "[[2 3]\n",
            " [0 0]]\n",
            "Turkey\n",
            "[[2]]\n",
            "Northern Mariana Islands\n",
            "[[0 1]\n",
            " [0 0]]\n",
            "Vietnam\n",
            "[[2 3]\n",
            " [0 0]]\n",
            "Thailand\n",
            "[[0 4]\n",
            " [0 0]]\n",
            "New Zealand\n",
            "[[3]]\n",
            "Serbia\n",
            "[[1]]\n",
            "France\n",
            "[[5 1]\n",
            " [4 6]]\n",
            "Tunisia\n",
            "[[0 1]\n",
            " [0 0]]\n",
            "Mexico\n",
            "[[1 2]\n",
            " [0 0]]\n",
            "India\n",
            "[[ 9 10]\n",
            " [ 0  1]]\n",
            "Kazakhstan\n",
            "[[1 1]\n",
            " [0 0]]\n",
            "Greece\n",
            "[[0 2]\n",
            " [0 0]]\n",
            "Belgium\n",
            "[[0 0]\n",
            " [3 7]]\n",
            "Costa Rica\n",
            "[[2]]\n",
            "Israel\n",
            "[[0 2]\n",
            " [0 0]]\n",
            "Russia\n",
            "[[0 1]\n",
            " [0 0]]\n",
            "China\n",
            "[[7 8]\n",
            " [0 0]]\n",
            "Taiwan\n",
            "[[1 3]\n",
            " [0 0]]\n",
            "Argentina\n",
            "[[1 3]\n",
            " [0 0]]\n",
            "Sri Lanka\n",
            "[[0 1]\n",
            " [0 0]]\n",
            "Azerbaijan\n",
            "[[0 1]\n",
            " [0 0]]\n",
            "Italy\n",
            "[[1 4]\n",
            " [0 1]]\n",
            "Austria\n",
            "[[0 2]\n",
            " [0 4]]\n",
            "Lithuania\n",
            "[[0 1]\n",
            " [0 0]]\n",
            "United States\n",
            "[[ 13  34]\n",
            " [ 73 150]]\n",
            "Ukraine\n",
            "[[0 1]\n",
            " [0 0]]\n",
            "Australia\n",
            "[[1 2]\n",
            " [1 1]]\n",
            "Portugal\n",
            "[[0 1]\n",
            " [0 0]]\n",
            "Guatemala\n",
            "[[0 1]\n",
            " [0 0]]\n",
            "Finland\n",
            "[[1]]\n",
            "United Kingdom\n",
            "[[4 5]\n",
            " [6 9]]\n",
            "Iran\n",
            "[[0 1]\n",
            " [0 0]]\n",
            "Germany\n",
            "[[ 2  3]\n",
            " [40 78]]\n",
            "Japan\n",
            "[[2 1]\n",
            " [0 0]]\n",
            "Poland\n",
            "[[5 3]\n",
            " [0 0]]\n",
            "Czechia\n",
            "[[3]]\n",
            "Indonesia\n",
            "[[1 1]\n",
            " [0 0]]\n",
            "Norway\n",
            "[[0 1]\n",
            " [0 0]]\n",
            "Morocco\n",
            "[[1 1]\n",
            " [0 0]]\n",
            "Sweden\n",
            "[[0 0]\n",
            " [1 2]]\n",
            "South Africa\n",
            "[[0 1]\n",
            " [0 0]]\n",
            "Netherlands\n",
            "[[ 1  0]\n",
            " [10 24]]\n"
          ]
        },
        {
          "output_type": "display_data",
          "data": {
            "image/png": "[encoded data removed]",
            "text/plain": [
              "<Figure size 288x288 with 2 Axes>"
            ]
          },
          "metadata": {
            "needs_background": "light"
          }
        },
        {
          "output_type": "display_data",
          "data": {
            "image/png": "[encoded data removed]",
            "text/plain": [
              "<Figure size 288x288 with 2 Axes>"
            ]
          },
          "metadata": {
            "needs_background": "light"
          }
        },
        {
          "output_type": "display_data",
          "data": {
            "image/png": "[encoded data removed]",
            "text/plain": [
              "<Figure size 288x288 with 2 Axes>"
            ]
          },
          "metadata": {
            "needs_background": "light"
          }
        },
        {
          "output_type": "display_data",
          "data": {
            "image/png": "[encoded data removed]",
            "text/plain": [
              "<Figure size 288x288 with 2 Axes>"
            ]
          },
          "metadata": {
            "needs_background": "light"
          }
        },
        {
          "output_type": "display_data",
          "data": {
            "image/png": "[encoded data removed]",
            "text/plain": [
              "<Figure size 288x288 with 2 Axes>"
            ]
          },
          "metadata": {
            "needs_background": "light"
          }
        },
        {
          "output_type": "display_data",
          "data": {
            "image/png": "[encoded data removed]",
            "text/plain": [
              "<Figure size 288x288 with 2 Axes>"
            ]
          },
          "metadata": {
            "needs_background": "light"
          }
        },
        {
          "output_type": "display_data",
          "data": {
            "image/png": "[encoded data removed]",
            "text/plain": [
              "<Figure size 288x288 with 2 Axes>"
            ]
          },
          "metadata": {
            "needs_background": "light"
          }
        },
        {
          "output_type": "display_data",
          "data": {
            "image/png": "[encoded data removed]",
            "text/plain": [
              "<Figure size 288x288 with 2 Axes>"
            ]
          },
          "metadata": {
            "needs_background": "light"
          }
        },
        {
          "output_type": "display_data",
          "data": {
            "image/png": "[encoded data removed]",
            "text/plain": [
              "<Figure size 288x288 with 2 Axes>"
            ]
          },
          "metadata": {
            "needs_background": "light"
          }
        },
        {
          "output_type": "display_data",
          "data": {
            "image/png": "[encoded data removed]",
            "text/plain": [
              "<Figure size 288x288 with 2 Axes>"
            ]
          },
          "metadata": {
            "needs_background": "light"
          }
        },
        {
          "output_type": "display_data",
          "data": {
            "image/png": "[encoded data removed]",
            "text/plain": [
              "<Figure size 288x288 with 2 Axes>"
            ]
          },
          "metadata": {
            "needs_background": "light"
          }
        },
        {
          "output_type": "display_data",
          "data": {
            "image/png": "[encoded data removed]",
            "text/plain": [
              "<Figure size 288x288 with 2 Axes>"
            ]
          },
          "metadata": {
            "needs_background": "light"
          }
        },
        {
          "output_type": "display_data",
          "data": {
            "image/png": "[encoded data removed]",
            "text/plain": [
              "<Figure size 288x288 with 2 Axes>"
            ]
          },
          "metadata": {
            "needs_background": "light"
          }
        },
        {
          "output_type": "display_data",
          "data": {
            "image/png": "[encoded data removed]",
            "text/plain": [
              "<Figure size 288x288 with 2 Axes>"
            ]
          },
          "metadata": {
            "needs_background": "light"
          }
        },
        {
          "output_type": "display_data",
          "data": {
            "image/png": "[encoded data removed]",
            "text/plain": [
              "<Figure size 288x288 with 2 Axes>"
            ]
          },
          "metadata": {
            "needs_background": "light"
          }
        },
        {
          "output_type": "display_data",
          "data": {
            "image/png": "[encoded data removed]",
            "text/plain": [
              "<Figure size 288x288 with 2 Axes>"
            ]
          },
          "metadata": {
            "needs_background": "light"
          }
        },
        {
          "output_type": "display_data",
          "data": {
            "image/png": "[encoded data removed]",
            "text/plain": [
              "<Figure size 288x288 with 2 Axes>"
            ]
          },
          "metadata": {
            "needs_background": "light"
          }
        },
        {
          "output_type": "display_data",
          "data": {
            "image/png": "[encoded data removed]",
            "text/plain": [
              "<Figure size 288x288 with 2 Axes>"
            ]
          },
          "metadata": {
            "needs_background": "light"
          }
        },
        {
          "output_type": "display_data",
          "data": {
            "image/png": "[encoded data removed]",
            "text/plain": [
              "<Figure size 288x288 with 2 Axes>"
            ]
          },
          "metadata": {
            "needs_background": "light"
          }
        },
        {
          "output_type": "display_data",
          "data": {
            "image/png": "[encoded data removed]",
            "text/plain": [
              "<Figure size 288x288 with 2 Axes>"
            ]
          },
          "metadata": {
            "needs_background": "light"
          }
        },
        {
          "output_type": "display_data",
          "data": {
            "image/png": "[encoded data removed]",
            "text/plain": [
              "<Figure size 288x288 with 2 Axes>"
            ]
          },
          "metadata": {
            "needs_background": "light"
          }
        },
        {
          "output_type": "display_data",
          "data": {
            "image/png": "[encoded data removed]",
            "text/plain": [
              "<Figure size 288x288 with 2 Axes>"
            ]
          },
          "metadata": {
            "needs_background": "light"
          }
        },
        {
          "output_type": "display_data",
          "data": {
            "image/png": "[encoded data removed]",
            "text/plain": [
              "<Figure size 288x288 with 2 Axes>"
            ]
          },
          "metadata": {
            "needs_background": "light"
          }
        },
        {
          "output_type": "display_data",
          "data": {
            "image/png": "[encoded data removed]",
            "text/plain": [
              "<Figure size 288x288 with 2 Axes>"
            ]
          },
          "metadata": {
            "needs_background": "light"
          }
        },
        {
          "output_type": "display_data",
          "data": {
            "image/png": "[encoded data removed]",
            "text/plain": [
              "<Figure size 288x288 with 2 Axes>"
            ]
          },
          "metadata": {
            "needs_background": "light"
          }
        },
        {
          "output_type": "display_data",
          "data": {
            "image/png": "[encoded data removed]",
            "text/plain": [
              "<Figure size 288x288 with 2 Axes>"
            ]
          },
          "metadata": {
            "needs_background": "light"
          }
        },
        {
          "output_type": "display_data",
          "data": {
            "image/png": "[encoded data removed]",
            "text/plain": [
              "<Figure size 288x288 with 2 Axes>"
            ]
          },
          "metadata": {
            "needs_background": "light"
          }
        },
        {
          "output_type": "display_data",
          "data": {
            "image/png": "[encoded data removed]",
            "text/plain": [
              "<Figure size 288x288 with 2 Axes>"
            ]
          },
          "metadata": {
            "needs_background": "light"
          }
        },
        {
          "output_type": "display_data",
          "data": {
            "image/png": "[encoded data removed]",
            "text/plain": [
              "<Figure size 288x288 with 2 Axes>"
            ]
          },
          "metadata": {
            "needs_background": "light"
          }
        },
        {
          "output_type": "display_data",
          "data": {
            "image/png": "[encoded data removed]",
            "text/plain": [
              "<Figure size 288x288 with 2 Axes>"
            ]
          },
          "metadata": {
            "needs_background": "light"
          }
        },
        {
          "output_type": "display_data",
          "data": {
            "image/png": "[encoded data removed]",
            "text/plain": [
              "<Figure size 288x288 with 2 Axes>"
            ]
          },
          "metadata": {
            "needs_background": "light"
          }
        },
        {
          "output_type": "display_data",
          "data": {
            "image/png": "[encoded data removed]",
            "text/plain": [
              "<Figure size 288x288 with 2 Axes>"
            ]
          },
          "metadata": {
            "needs_background": "light"
          }
        },
        {
          "output_type": "display_data",
          "data": {
            "image/png": "[encoded data removed]",
            "text/plain": [
              "<Figure size 288x288 with 2 Axes>"
            ]
          },
          "metadata": {
            "needs_background": "light"
          }
        },
        {
          "output_type": "display_data",
          "data": {
            "image/png": "[encoded data removed]",
            "text/plain": [
              "<Figure size 288x288 with 2 Axes>"
            ]
          },
          "metadata": {
            "needs_background": "light"
          }
        },
        {
          "output_type": "display_data",
          "data": {
            "image/png": "[encoded data removed]",
            "text/plain": [
              "<Figure size 288x288 with 2 Axes>"
            ]
          },
          "metadata": {
            "needs_background": "light"
          }
        },
        {
          "output_type": "display_data",
          "data": {
            "image/png": "[encoded data removed]",
            "text/plain": [
              "<Figure size 288x288 with 2 Axes>"
            ]
          },
          "metadata": {
            "needs_background": "light"
          }
        },
        {
          "output_type": "display_data",
          "data": {
            "image/png": "[encoded data removed]",
            "text/plain": [
              "<Figure size 288x288 with 2 Axes>"
            ]
          },
          "metadata": {
            "needs_background": "light"
          }
        },
        {
          "output_type": "display_data",
          "data": {
            "image/png": "[encoded data removed]",
            "text/plain": [
              "<Figure size 288x288 with 2 Axes>"
            ]
          },
          "metadata": {
            "needs_background": "light"
          }
        },
        {
          "output_type": "display_data",
          "data": {
            "image/png": "[encoded data removed]",
            "text/plain": [
              "<Figure size 288x288 with 2 Axes>"
            ]
          },
          "metadata": {
            "needs_background": "light"
          }
        },
        {
          "output_type": "display_data",
          "data": {
            "image/png": "[encoded data removed]",
            "text/plain": [
              "<Figure size 288x288 with 2 Axes>"
            ]
          },
          "metadata": {
            "needs_background": "light"
          }
        },
        {
          "output_type": "display_data",
          "data": {
            "image/png": "[encoded data removed]",
            "text/plain": [
              "<Figure size 288x288 with 2 Axes>"
            ]
          },
          "metadata": {
            "needs_background": "light"
          }
        },
        {
          "output_type": "display_data",
          "data": {
            "image/png": "[encoded data removed]",
            "text/plain": [
              "<Figure size 288x288 with 2 Axes>"
            ]
          },
          "metadata": {
            "needs_background": "light"
          }
        },
        {
          "output_type": "display_data",
          "data": {
            "image/png": "[encoded data removed]",
            "text/plain": [
              "<Figure size 288x288 with 2 Axes>"
            ]
          },
          "metadata": {
            "needs_background": "light"
          }
        },
        {
          "output_type": "display_data",
          "data": {
            "image/png": "[encoded data removed]",
            "text/plain": [
              "<Figure size 288x288 with 2 Axes>"
            ]
          },
          "metadata": {
            "needs_background": "light"
          }
        },
        {
          "output_type": "display_data",
          "data": {
            "image/png": "[encoded data removed]",
            "text/plain": [
              "<Figure size 288x288 with 2 Axes>"
            ]
          },
          "metadata": {
            "needs_background": "light"
          }
        },
        {
          "output_type": "display_data",
          "data": {
            "image/png": "[encoded data removed]",
            "text/plain": [
              "<Figure size 288x288 with 2 Axes>"
            ]
          },
          "metadata": {
            "needs_background": "light"
          }
        },
        {
          "output_type": "display_data",
          "data": {
            "image/png": "[encoded data removed]",
            "text/plain": [
              "<Figure size 288x288 with 2 Axes>"
            ]
          },
          "metadata": {
            "needs_background": "light"
          }
        },
        {
          "output_type": "display_data",
          "data": {
            "image/png": "[encoded data removed]",
            "text/plain": [
              "<Figure size 288x288 with 2 Axes>"
            ]
          },
          "metadata": {
            "needs_background": "light"
          }
        },
        {
          "output_type": "display_data",
          "data": {
            "image/png": "[encoded data removed]",
            "text/plain": [
              "<Figure size 288x288 with 2 Axes>"
            ]
          },
          "metadata": {
            "needs_background": "light"
          }
        }
      ]
    },
    {
      "cell_type": "code",
      "metadata": {
        "colab": {
          "base_uri": "https://localhost:8080/",
          "height": 274
        },
        "id": "BuGSsegCmHNJ",
        "outputId": "1adc7187-8901-484c-8962-91e44086a501"
      },
      "source": [
        "#Confusion matrix of the whole dataset\n",
        "plt.matshow(confusion_matrix(y_true, y_pred), cmap=plt.cm.binary, interpolation='nearest')\n",
        "plt.title('confusion matrix')\n",
        "plt.colorbar()\n",
        "plt.ylabel('expected label')\n",
        "plt.xlabel('predicted label')"
      ],
      "execution_count": null,
      "outputs": [
        {
          "data": {
            "text/plain": [
              "Text(0.5, 0, 'predicted label')"
            ]
          },
          "execution_count": 69,
          "metadata": {},
          "output_type": "execute_result"
        },
        {
          "data": {
            "image/png": "[encoded data removed]",
            "text/plain": [
              "<Figure size 288x288 with 2 Axes>"
            ]
          },
          "metadata": {},
          "output_type": "display_data"
        }
      ]
    },
    {
      "cell_type": "code",
      "source": [
        "#Equalized Odds\n",
        "\n",
        "Fairness = pd.read_csv('/content/drive/MyDrive/Equalized odds.csv')\n",
        "Fairness.head()"
      ],
      "metadata": {
        "colab": {
          "base_uri": "https://localhost:8080/",
          "height": 112
        },
        "id": "QeBafGMfKZF1",
        "outputId": "a6bc24ed-f2a9-42ea-f193-b839b8c8ed11"
      },
      "execution_count": null,
      "outputs": [
        {
          "output_type": "execute_result",
          "data": {
            "text/html": [
              "<div>\n",
              "<style scoped>\n",
              "    .dataframe tbody tr th:only-of-type {\n",
              "        vertical-align: middle;\n",
              "    }\n",
              "\n",
              "    .dataframe tbody tr th {\n",
              "        vertical-align: top;\n",
              "    }\n",
              "\n",
              "    .dataframe thead th {\n",
              "        text-align: right;\n",
              "    }\n",
              "</style>\n",
              "<table border=\"1\" class=\"dataframe\">\n",
              "  <thead>\n",
              "    <tr style=\"text-align: right;\">\n",
              "      <th></th>\n",
              "      <th>Unnamed: 0</th>\n",
              "      <th>France</th>\n",
              "      <th>United States</th>\n",
              "      <th>Germany</th>\n",
              "      <th>Australia</th>\n",
              "      <th>United Kingdom</th>\n",
              "    </tr>\n",
              "  </thead>\n",
              "  <tbody>\n",
              "    <tr>\n",
              "      <th>0</th>\n",
              "      <td>Percentage of Spam</td>\n",
              "      <td>55%</td>\n",
              "      <td>15%</td>\n",
              "      <td>4%</td>\n",
              "      <td>50%</td>\n",
              "      <td>40%</td>\n",
              "    </tr>\n",
              "    <tr>\n",
              "      <th>1</th>\n",
              "      <td>Percentage of No Spam</td>\n",
              "      <td>85%</td>\n",
              "      <td>81%</td>\n",
              "      <td>96%</td>\n",
              "      <td>33%</td>\n",
              "      <td>64%</td>\n",
              "    </tr>\n",
              "  </tbody>\n",
              "</table>\n",
              "</div>"
            ],
            "text/plain": [
              "              Unnamed: 0 France United States Germany Australia United Kingdom\n",
              "0     Percentage of Spam    55%           15%      4%       50%            40%\n",
              "1  Percentage of No Spam    85%           81%     96%       33%            64%"
            ]
          },
          "metadata": {},
          "execution_count": 6
        }
      ]
    },
    {
      "cell_type": "markdown",
      "source": [
        "This shows the Equality of odds is not satisfied as shown bove because Spam in greater in one country than in the others according to our analysis."
      ],
      "metadata": {
        "id": "Z5h8leXgL00V"
      }
    },
    {
      "cell_type": "code",
      "source": [
        "from google.colab import drive\n",
        "drive.mount('/content/drive')"
      ],
      "metadata": {
        "colab": {
          "base_uri": "https://localhost:8080/"
        },
        "id": "q_XBSyIPLDLw",
        "outputId": "387058c7-f145-4df0-b92f-eee85ead6243"
      },
      "execution_count": null,
      "outputs": [
        {
          "output_type": "stream",
          "name": "stdout",
          "text": [
            "Drive already mounted at /content/drive; to attempt to forcibly remount, call drive.mount(\"/content/drive\", force_remount=True).\n"
          ]
        }
      ]
    }
  ]
}